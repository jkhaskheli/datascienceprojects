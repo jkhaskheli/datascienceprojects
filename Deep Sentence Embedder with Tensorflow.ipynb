{
 "cells": [
  {
   "cell_type": "markdown",
   "id": "8deb814f",
   "metadata": {},
   "source": [
    "## Deep Sentence Embedder with Tensorflow"
   ]
  },
  {
   "cell_type": "markdown",
   "id": "90699748",
   "metadata": {},
   "source": [
    "##### Author: Jessica Khaskheli\n",
    "\n",
    "##### Collaborators: None\n",
    "\n",
    "##### Date: May 15, 2022"
   ]
  },
  {
   "cell_type": "markdown",
   "id": "a3b495c4",
   "metadata": {},
   "source": [
    "##### Problem Description: \n",
    "This project involves the analysis of essay data, which consists of 1515 rows of training data with two columns: one column for raw text from essays, and one column to show the score the essay received. The test data include 268 observations of raw text from essays and the scores they recieved. In this project, I aim to conduct exploratory data analysis to understand the data I'm working with, clean the text data, train it on a few classifiers to evaluate their performance and use a deep sentence embedder to evaluate classifer performance."
   ]
  },
  {
   "cell_type": "markdown",
   "id": "75410ec7",
   "metadata": {},
   "source": [
    "## Set-up and Initializing"
   ]
  },
  {
   "cell_type": "markdown",
   "id": "f27f6af9",
   "metadata": {},
   "source": [
    "## 1:"
   ]
  },
  {
   "cell_type": "code",
   "execution_count": 1,
   "id": "7eb95c20",
   "metadata": {},
   "outputs": [],
   "source": [
    "# reading in tensorflow package and other relevant packages\n",
    "from numpy.random import seed\n",
    "import tensorflow as tf\n",
    "import pandas as pd\n",
    "seed(1234)\n",
    "tf.random.set_seed(seed = 1234)"
   ]
  },
  {
   "cell_type": "markdown",
   "id": "8c1fcbc7",
   "metadata": {},
   "source": [
    "## 2:"
   ]
  },
  {
   "cell_type": "code",
   "execution_count": 2,
   "id": "3e68f1f1",
   "metadata": {},
   "outputs": [
    {
     "name": "stdout",
     "output_type": "stream",
     "text": [
      "No. of Train Observations: (1515, 2)\n",
      "No. Test Observations: (268, 2)\n"
     ]
    }
   ],
   "source": [
    "train = pd.read_csv('titledtrain.tsv', sep='\\t')\n",
    "test = pd.read_csv('titledtest.tsv', sep='\\t')\n",
    "\n",
    "print(\"No. of Train Observations:\", train.shape)\n",
    "print(\"No. Test Observations:\", test.shape)"
   ]
  },
  {
   "cell_type": "markdown",
   "id": "17fb6911",
   "metadata": {},
   "source": [
    "## 3:\n",
    "**Creating vector of training labels**"
   ]
  },
  {
   "cell_type": "markdown",
   "id": "d8aa67f6",
   "metadata": {},
   "source": [
    "I plan to create a vector of training and test labels and use the `value_counts()` function to plot the distribution of essay scores using a barplot. I plan create two separate barplots to compare the training and testing labels separately and comment on the similarities and differences in their distributions."
   ]
  },
  {
   "cell_type": "code",
   "execution_count": 3,
   "id": "3b4ccde9",
   "metadata": {},
   "outputs": [
    {
     "data": {
      "text/plain": [
       "(array([ 0,  1,  2,  3,  4,  5,  6,  7,  8,  9, 10]),\n",
       " [Text(0, 0, '8'),\n",
       "  Text(1, 0, '9'),\n",
       "  Text(2, 0, '10'),\n",
       "  Text(3, 0, '7'),\n",
       "  Text(4, 0, '6'),\n",
       "  Text(5, 0, '11'),\n",
       "  Text(6, 0, '12'),\n",
       "  Text(7, 0, '5'),\n",
       "  Text(8, 0, '4'),\n",
       "  Text(9, 0, '2'),\n",
       "  Text(10, 0, '3')])"
      ]
     },
     "execution_count": 3,
     "metadata": {},
     "output_type": "execute_result"
    },
    {
     "data": {
      "image/png": "[encoded data removed]",
      "text/plain": [
       "<Figure size 432x288 with 1 Axes>"
      ]
     },
     "metadata": {
      "needs_background": "light"
     },
     "output_type": "display_data"
    }
   ],
   "source": [
    "import numpy as np\n",
    "import seaborn as sns\n",
    "import matplotlib.pyplot as plt\n",
    "\n",
    "# creating vector for train and test labels\n",
    "train_labels = np.array(train.score)\n",
    "test_labels = np.array(test.score)\n",
    "\n",
    "# looking at distribution of train labels\n",
    "fig, ax = plt.subplots()\n",
    "train['score'].value_counts().plot(ax=ax, kind='bar', color = 'b')\n",
    "plt.xlabel(\"scores\")\n",
    "plt.ylabel(\"frequency\")\n",
    "plt.title(\"Distribution of Training Labels\")\n",
    "plt.xticks(rotation = 0)"
   ]
  },
  {
   "cell_type": "code",
   "execution_count": 4,
   "id": "4ef311f9",
   "metadata": {},
   "outputs": [
    {
     "data": {
      "text/plain": [
       "(array([0, 1, 2, 3, 4, 5, 6, 7, 8]),\n",
       " [Text(0, 0, '8'),\n",
       "  Text(1, 0, '9'),\n",
       "  Text(2, 0, '10'),\n",
       "  Text(3, 0, '7'),\n",
       "  Text(4, 0, '11'),\n",
       "  Text(5, 0, '6'),\n",
       "  Text(6, 0, '12'),\n",
       "  Text(7, 0, '4'),\n",
       "  Text(8, 0, '5')])"
      ]
     },
     "execution_count": 4,
     "metadata": {},
     "output_type": "execute_result"
    },
    {
     "data": {
      "image/png": "[encoded data removed]",
      "text/plain": [
       "<Figure size 432x288 with 1 Axes>"
      ]
     },
     "metadata": {
      "needs_background": "light"
     },
     "output_type": "display_data"
    }
   ],
   "source": [
    "fig, ax = plt.subplots()\n",
    "test['score'].value_counts().plot(ax=ax, kind = 'bar', color = 'c')\n",
    "plt.xlabel(\"scores\")\n",
    "plt.ylabel(\"frequency\")\n",
    "plt.title(\"Distribution of Test Labels\")\n",
    "plt.xticks(rotation = 0)"
   ]
  },
  {
   "cell_type": "markdown",
   "id": "47f1ff86",
   "metadata": {},
   "source": [
    "### What does the distribution of labels look like for the training set and the test set?"
   ]
  },
  {
   "cell_type": "markdown",
   "id": "730035e4",
   "metadata": {},
   "source": [
    "The distribution between the training and testing labels are fairly similar. From plotting their distributions separately instead of together in the same plot, I can see that the Training labels take on values of 2, 3, and 4 at the lower end of the plot whereas the Testing labels only take on minimum values of 4. Other than this, I can see that the Training labels have almost the same count of 9 and 10 scores while in the Testing label set, there are more essays that take on a score of 9 than 10. Overall, the two disbributions follow the same pattern of being skewed right."
   ]
  },
  {
   "cell_type": "markdown",
   "id": "277439c2",
   "metadata": {},
   "source": [
    "## 4:"
   ]
  },
  {
   "cell_type": "markdown",
   "id": "6b83c861",
   "metadata": {},
   "source": [
    "Convert the training data to lower case. Remove punctuation from the training data. Also\n",
    "remove stop words from the training data using the NLTK package’s English stop word list. In\n",
    "addition to NLTK’s stopwords, are there words specific to this dataset that may be worthwhile\n",
    "to treat as stop words? What are these words and why would you exclude them? Remove\n",
    "these additional stop words from the training data as well (note: you can also remove this\n",
    "secondary set of stop words after tokenizing. However, keep in mind that this may cause\n",
    "feature alignment issues with your test dataset when you tokenize it.)"
   ]
  },
  {
   "cell_type": "markdown",
   "id": "015794e6",
   "metadata": {},
   "source": [
    "In terms of data cleaning, I plan to remove punctuation marks suchs as dashes, periods, commas, brackets and other special characters using the `re` package and sub function to remove the punctuation mark and replace it with an empty string. I also plan to convert all the letters to lowercase form. I plan to have all of my cleaning commands within a for loop and run my essay data in the form of a list through it. Within the for loop, I plan to include a line of code that will remove stopwords from the `nltk` library. I also plan to have two different columns of cleaned text: (1) containing stopwords and (2) not containing stopwords. The column of cleaned text that contains stopwords will later be used for sentiment analysis using TextBlob because the exclusion of stopwords can change the sentiment of a piece of text. Within my for loop with cleaning code, I plan to use `word_tokenize` from the `nltk` library."
   ]
  },
  {
   "cell_type": "code",
   "execution_count": 5,
   "id": "4e118a16",
   "metadata": {},
   "outputs": [
    {
     "name": "stderr",
     "output_type": "stream",
     "text": [
      "[nltk_data] Error loading stopwords: <urlopen error [SSL:\n",
      "[nltk_data]     CERTIFICATE_VERIFY_FAILED] certificate verify failed:\n",
      "[nltk_data]     unable to get local issuer certificate (_ssl.c:1129)>\n",
      "[nltk_data] Error loading punkt: <urlopen error [SSL:\n",
      "[nltk_data]     CERTIFICATE_VERIFY_FAILED] certificate verify failed:\n",
      "[nltk_data]     unable to get local issuer certificate (_ssl.c:1129)>\n"
     ]
    }
   ],
   "source": [
    "import nltk\n",
    "nltk.download('stopwords')\n",
    "from nltk.corpus import stopwords \n",
    "stopeng = set(stopwords.words('english'))\n",
    "nltk.download('punkt')\n",
    "from nltk.tokenize import word_tokenize\n",
    "import re"
   ]
  },
  {
   "cell_type": "code",
   "execution_count": 6,
   "id": "d79f4563",
   "metadata": {},
   "outputs": [],
   "source": [
    "train_list = train['essay'].tolist() # using tolist() to convert essay data to list"
   ]
  },
  {
   "cell_type": "code",
   "execution_count": 7,
   "id": "9b68cb4d",
   "metadata": {},
   "outputs": [],
   "source": [
    "# cleaning without taking our stop words so I can do sentiment analysis\n",
    "clean_w_stop_train = []\n",
    "for row in train_list:\n",
    "    row = row.lower() # making all letters lowercase\n",
    "    #remove other special characters\n",
    "    row = re.sub('[^A-Za-z .-]+', '', row) \n",
    "    #remove digits\n",
    "    row = re.sub('\\d+', '', row)\n",
    "    row = row.strip(\" \")\n",
    "    row = re.sub('\\s+', ' ', row)\n",
    "    row = re.sub('\\-','', row)\n",
    "    row = re.sub('\\.','', row)\n",
    "    row = re.sub('\\n','', row)\n",
    "    row = re.sub('\\,','', row)\n",
    "    tokens = word_tokenize( row.lower() )\n",
    "    cleaned_words = \" \".join(tokens)\n",
    "    clean_w_stop_train.append(cleaned_words)"
   ]
  },
  {
   "cell_type": "code",
   "execution_count": 8,
   "id": "cd29f474",
   "metadata": {},
   "outputs": [],
   "source": [
    "cleaned_essay = [] # creating empty list to append cleaned words\n",
    "for row in train_list:\n",
    "    row = row.lower() # making all letters lowercase\n",
    "    #remove other special characters\n",
    "    row = re.sub('[^A-Za-z .-]+', '', row) \n",
    "    # removing other words I'm treating as stopwords\n",
    "    row  = re.sub(r'get', '', row)\n",
    "    row  = re.sub(r'also', '', row)\n",
    "    row  = re.sub(r'use', '', row)\n",
    "    row  = re.sub(r'like', '', row)\n",
    "    row  = re.sub(r'would', '', row)\n",
    "    row  = re.sub(r'could', '', row)\n",
    "    row  = re.sub(r'dont', '', row)\n",
    "    row  = re.sub(r'many', '', row)\n",
    "    row  = re.sub(r'want', '', row)\n",
    "    row  = re.sub(r'much', '', row)\n",
    "    #remove digits\n",
    "    row = re.sub('\\d+', '', row)\n",
    "    row = row.strip(\" \")\n",
    "    row = re.sub('\\s+', ' ', row)\n",
    "    row = re.sub('\\-','', row)\n",
    "    row = re.sub('\\.','', row)\n",
    "    row = re.sub('\\n','', row)\n",
    "    row = re.sub('\\,','', row)\n",
    "    tokens = word_tokenize( row.lower() )\n",
    "    tokens_nostop = [w for w in tokens if w not in stopeng] # removing stopwords from nltk dictionary\n",
    "    cleaned_words = \" \".join(tokens_nostop)\n",
    "    cleaned_essay.append(cleaned_words) # appending words to empty list from above"
   ]
  },
  {
   "cell_type": "code",
   "execution_count": 9,
   "id": "a99cc0f8",
   "metadata": {},
   "outputs": [
    {
     "data": {
      "text/html": [
       "<div>\n",
       "<style scoped>\n",
       "    .dataframe tbody tr th:only-of-type {\n",
       "        vertical-align: middle;\n",
       "    }\n",
       "\n",
       "    .dataframe tbody tr th {\n",
       "        vertical-align: top;\n",
       "    }\n",
       "\n",
       "    .dataframe thead th {\n",
       "        text-align: right;\n",
       "    }\n",
       "</style>\n",
       "<table border=\"1\" class=\"dataframe\">\n",
       "  <thead>\n",
       "    <tr style=\"text-align: right;\">\n",
       "      <th></th>\n",
       "      <th>cleantext</th>\n",
       "    </tr>\n",
       "  </thead>\n",
       "  <tbody>\n",
       "    <tr>\n",
       "      <th>0</th>\n",
       "      <td>dear caps caps people world coumputers know co...</td>\n",
       "    </tr>\n",
       "  </tbody>\n",
       "</table>\n",
       "</div>"
      ],
      "text/plain": [
       "                                           cleantext\n",
       "0  dear caps caps people world coumputers know co..."
      ]
     },
     "execution_count": 9,
     "metadata": {},
     "output_type": "execute_result"
    }
   ],
   "source": [
    "# converting clean training set to dataframe\n",
    "clean_text = pd.DataFrame(cleaned_essay).rename(columns = {0:'cleantext'})\n",
    "clean_text.head(1)"
   ]
  },
  {
   "cell_type": "markdown",
   "id": "537c5bed",
   "metadata": {},
   "source": [
    "- After running my training essay data through my cleaning code, I converted the list back to a dataframe and printed the first row of the cleaned essay text so inspect how well my text was cleaned. From initial inspection, I can see that the text contains no punctuation marks as expected, some words are mispelled which is a characteristic of the writer of the essay. I also notice that every word is in lowercase as expected as well. \n",
    "- In the code that I used to remove stopwords, I also chose to remove words like: \"get\", \"also\", \"use\", \"like\", \"would\", \"could\", \"don't\", \"many\", \"want\", \"much\". I treated these as stopwords as well because they occurred often enough in the text and I didn't think they were unique enough. Initially, I wrote a function using `Counter` that counted the number of frequently occuring words in the text. When displaying the top 30 frequently occuring words, the words I mentioned earlier that I treated as stopwords were mentioned, which led me to make the decision to remove them."
   ]
  },
  {
   "cell_type": "markdown",
   "id": "46fe1c74",
   "metadata": {},
   "source": [
    "## 5:"
   ]
  },
  {
   "cell_type": "markdown",
   "id": "822f2be9",
   "metadata": {},
   "source": [
    "I plan to use `PorterStemmer` from the `nltk` library to stem my essay data. I might also consider using `spacy` in order to lemmatize the essay text."
   ]
  },
  {
   "cell_type": "code",
   "execution_count": 10,
   "id": "ef2e70a5",
   "metadata": {},
   "outputs": [],
   "source": [
    "from nltk.stem import PorterStemmer\n",
    "ps = PorterStemmer()\n",
    "stem_train = [[ps.stem(word) for word in sentence.split(\" \")] for sentence in list(cleaned_essay)]"
   ]
  },
  {
   "cell_type": "code",
   "execution_count": 11,
   "id": "66b6203a",
   "metadata": {},
   "outputs": [
    {
     "name": "stderr",
     "output_type": "stream",
     "text": [
      "/var/folders/b7/rmg3hfx52jv9khn6bbm73w8c0000gn/T/ipykernel_3165/2301240975.py:5: FutureWarning: Passing a negative integer is deprecated in version 1.0 and will not be supported in future version. Instead, use None to not limit the column width.\n",
      "  pd.set_option('display.max_colwidth', -1) # expanding column width to show full text\n"
     ]
    },
    {
     "data": {
      "text/html": [
       "<div>\n",
       "<style scoped>\n",
       "    .dataframe tbody tr th:only-of-type {\n",
       "        vertical-align: middle;\n",
       "    }\n",
       "\n",
       "    .dataframe tbody tr th {\n",
       "        vertical-align: top;\n",
       "    }\n",
       "\n",
       "    .dataframe thead th {\n",
       "        text-align: right;\n",
       "    }\n",
       "</style>\n",
       "<table border=\"1\" class=\"dataframe\">\n",
       "  <thead>\n",
       "    <tr style=\"text-align: right;\">\n",
       "      <th></th>\n",
       "      <th>stemmed</th>\n",
       "      <th>clean_wo_stop</th>\n",
       "      <th>clean_w_stop</th>\n",
       "    </tr>\n",
       "  </thead>\n",
       "  <tbody>\n",
       "    <tr>\n",
       "      <th>0</th>\n",
       "      <td>[dear, cap, cap, peopl, world, coumput, know, comput, surch, internet, game, work, school, peopl, think, comput, good, help, teach, hand, eye, coordin, learn, place, world, talk, peopl, onlin, num, grade, mystic, middl, school, think, comput, good, peopl, think, ever, heard, comput, camp, kid, go, addict, comput, camp, kid, pull, away, comput, pritti, forc, join, grope, activ, fish, work, toher, solv, mysteri, camp, pritti, known, reliabl, kid, addict, comput, anoth, reason, comput, bad, internet, internet, danger, place, chat, peopl, even, know, never, know, peopl, mess, head, tri, find, cap, come, alway, car, talk, wise, noth, eve, realli, goe, right, comput, alway, ...]</td>\n",
       "      <td>dear caps caps people world coumputers know computers surching internet games work school people think computers good help teach hand eye coordination learn places world talk people online num grade mystic middle school think computers good people think ever heard computer camps kids go addicted computer camp kids pulled away computer pritty forced join gropes activitys fishing working toher solve mystery camp pritty known reliable kids addicted computer another reason computers bad internet internet dangerous place chat people even know never know people messed head try find caps come always carful talk wise nothing eve really goes right computers alway ting slower slower every time every two years kid parent go throw computer computer doesnt right caps vins cost person hundred dollars fixed thing happen time computer caps die work caps data gone forever explaines part computers people think different end one people camp computer never know forever never found alread know caps coomputers fixed might find caps hard way think computers ca truble peolple</td>\n",
       "      <td>dear caps caps people world use coumputers know computers used like surching internet games work school people think computers good use help teach hand eye coordination learn places world talk people online num grade mystic middle school think computers good people think ever heard computer camps kids go addicted computer camp kids pulled away computer pritty much forced join gropes activitys like fishing working together solve mystery camp pritty much known reliable kids addicted computer another reason computers bad internet internet dangerous place chat people dont even know never know people could messed head try find caps like come always carful talk wise could get nothing eve really goes right computers alway getting slower slower every time use every two years kid parent could go throw computer also computer doesnt right caps could get vins cost person hundred dollars get fixed thing could happen time computer caps could die work caps data gone forever explaines part computers people think different would want end like one people camp computer much never know could forever never found alread know caps much coomputers get fixed might find caps hard way think computers cause truble peolple</td>\n",
       "    </tr>\n",
       "    <tr>\n",
       "      <th>1</th>\n",
       "      <td>[dear, newspap, believ, advanc, technolog, posit, effect, comput, comput, great, peopl, age, comput, teach, handey, coordin, allow, peopl, learn, inform, world, lastli, comput, allow, peopl, commun, internet, advanc, technolog, improv, societi, way, life, around, globe, advanc, technolog, amaz, comput, show, advanc, greatli, simpl, comput, one, learn, great, handey, coordin, skill, type, skill, great, exampl, type, skill, need, almost, everyon, world, without, comput, one, skill, young, child, go, comput, play, game, learn, basic, type, handey, coordin, skill, jump, start, coordin, skill, rest, life, advanc, technolog, great, advanc, comput, allow, peopl, learn, worldwid, inform, time, school, student, ask, report, differ, countri, hard, ...]</td>\n",
       "      <td>dear newspaper believe advances technology positive effects computers computers great people ages computers teach handeye coordination allow people learn information world lastly computers allow people communicate internet advances technology improve society way life around globe advances technology amazing computers show advances greatly simple computer one learn great handeye coordination skills typing skills great example typing skills needed almost everyone world without computers one skills young child go computer play game learn basic typing handeye coordination skills jump start coordination skills rest life advances technology great advances computers allow people learn worldwide information times school students asked report different country hard report without computer student need go different books find specific information needed internet project done lot faster typing whatever need know family vacation youve always ed go need idea go internet need type vacation spots click enter instantly hundreds choices right front makes life lot simpler remember last time mom dad went business trip nt talk busy fix internet communicate caps caps hookup caps computer instantly say good time hows going friend instant message easy seem standing right next matter seconds conclusion computers advances technology great benefit everyone world computers tech handeye coordination allow one learn information around world allow communication internet happen instantly writers editors newspaper please agree topic advances technology add posotive effects way life support advances todays technology help improve life</td>\n",
       "      <td>dear newspaper believe advances technology many positive effects computers computers great people ages computers teach handeye coordination allow people learn information world lastly computers allow people communicate internet advances technology improve society way life around globe advances technology amazing computers show advances greatly simple use computer one learn great handeye coordination skills typing skills great example typing skills needed almost everyone world without computers one would skills young child go computer play game learn basic typing handeye coordination skills jump start coordination skills rest life advances technology great advances computers also allow people learn worldwide information many times school students asked report different country would hard report without computer student would need go different books find specific information needed internet project get done lot faster typing whatever need know family vacation youve always wanted go need idea go use internet need type vacation spots click enter instantly hundreds choices right front makes life lot simpler remember last time mom dad went business trip couldnt talk busy fix internet communicate caps caps hookup caps computer instantly say good time hows going friend instant message easy seem like standing right next matter seconds conclusion computers advances technology great benefit everyone world computers tech handeye coordination allow one learn information around world allow communication internet happen instantly writers editors newspaper please agree topic advances technology add posotive effects way life support advances todays technology help improve life</td>\n",
       "    </tr>\n",
       "  </tbody>\n",
       "</table>\n",
       "</div>"
      ],
      "text/plain": [
       "                                                                                                                                                                                                                                                                                                                                                                                                                                                                                                                                                                                                                                                                                                                                                                            stemmed  \\\n",
       "0  [dear, cap, cap, peopl, world, coumput, know, comput, surch, internet, game, work, school, peopl, think, comput, good, help, teach, hand, eye, coordin, learn, place, world, talk, peopl, onlin, num, grade, mystic, middl, school, think, comput, good, peopl, think, ever, heard, comput, camp, kid, go, addict, comput, camp, kid, pull, away, comput, pritti, forc, join, grope, activ, fish, work, toher, solv, mysteri, camp, pritti, known, reliabl, kid, addict, comput, anoth, reason, comput, bad, internet, internet, danger, place, chat, peopl, even, know, never, know, peopl, mess, head, tri, find, cap, come, alway, car, talk, wise, noth, eve, realli, goe, right, comput, alway, ...]                                                                          \n",
       "1  [dear, newspap, believ, advanc, technolog, posit, effect, comput, comput, great, peopl, age, comput, teach, handey, coordin, allow, peopl, learn, inform, world, lastli, comput, allow, peopl, commun, internet, advanc, technolog, improv, societi, way, life, around, globe, advanc, technolog, amaz, comput, show, advanc, greatli, simpl, comput, one, learn, great, handey, coordin, skill, type, skill, great, exampl, type, skill, need, almost, everyon, world, without, comput, one, skill, young, child, go, comput, play, game, learn, basic, type, handey, coordin, skill, jump, start, coordin, skill, rest, life, advanc, technolog, great, advanc, comput, allow, peopl, learn, worldwid, inform, time, school, student, ask, report, differ, countri, hard, ...]   \n",
       "\n",
       "                                                                                                                                                                                                                                                                                                                                                                                                                                                                                                                                                                                                                                                                                                                                                                                                                                                                                                                                                                                                                                                                                                                                                                                                                                                                                                                                                                                                                                                                                                                                                                                                                                                                                   clean_wo_stop  \\\n",
       "0  dear caps caps people world coumputers know computers surching internet games work school people think computers good help teach hand eye coordination learn places world talk people online num grade mystic middle school think computers good people think ever heard computer camps kids go addicted computer camp kids pulled away computer pritty forced join gropes activitys fishing working toher solve mystery camp pritty known reliable kids addicted computer another reason computers bad internet internet dangerous place chat people even know never know people messed head try find caps come always carful talk wise nothing eve really goes right computers alway ting slower slower every time every two years kid parent go throw computer computer doesnt right caps vins cost person hundred dollars fixed thing happen time computer caps die work caps data gone forever explaines part computers people think different end one people camp computer never know forever never found alread know caps coomputers fixed might find caps hard way think computers ca truble peolple                                                                                                                                                                                                                                                                                                                                                                                                                                                                                                                                                                                    \n",
       "1  dear newspaper believe advances technology positive effects computers computers great people ages computers teach handeye coordination allow people learn information world lastly computers allow people communicate internet advances technology improve society way life around globe advances technology amazing computers show advances greatly simple computer one learn great handeye coordination skills typing skills great example typing skills needed almost everyone world without computers one skills young child go computer play game learn basic typing handeye coordination skills jump start coordination skills rest life advances technology great advances computers allow people learn worldwide information times school students asked report different country hard report without computer student need go different books find specific information needed internet project done lot faster typing whatever need know family vacation youve always ed go need idea go internet need type vacation spots click enter instantly hundreds choices right front makes life lot simpler remember last time mom dad went business trip nt talk busy fix internet communicate caps caps hookup caps computer instantly say good time hows going friend instant message easy seem standing right next matter seconds conclusion computers advances technology great benefit everyone world computers tech handeye coordination allow one learn information around world allow communication internet happen instantly writers editors newspaper please agree topic advances technology add posotive effects way life support advances todays technology help improve life   \n",
       "\n",
       "                                                                                                                                                                                                                                                                                                                                                                                                                                                                                                                                                                                                                                                                                                                                                                                                                                                                                                                                                                                                                                                                                                                                                                                                                                                                                                                                                                                                                                                                                                                                                                                                                                                                                                                                               clean_w_stop  \n",
       "0  dear caps caps people world use coumputers know computers used like surching internet games work school people think computers good use help teach hand eye coordination learn places world talk people online num grade mystic middle school think computers good people think ever heard computer camps kids go addicted computer camp kids pulled away computer pritty much forced join gropes activitys like fishing working together solve mystery camp pritty much known reliable kids addicted computer another reason computers bad internet internet dangerous place chat people dont even know never know people could messed head try find caps like come always carful talk wise could get nothing eve really goes right computers alway getting slower slower every time use every two years kid parent could go throw computer also computer doesnt right caps could get vins cost person hundred dollars get fixed thing could happen time computer caps could die work caps data gone forever explaines part computers people think different would want end like one people camp computer much never know could forever never found alread know caps much coomputers get fixed might find caps hard way think computers cause truble peolple                                                                                                                                                                                                                                                                                                                                                                                                                                                                                             \n",
       "1  dear newspaper believe advances technology many positive effects computers computers great people ages computers teach handeye coordination allow people learn information world lastly computers allow people communicate internet advances technology improve society way life around globe advances technology amazing computers show advances greatly simple use computer one learn great handeye coordination skills typing skills great example typing skills needed almost everyone world without computers one would skills young child go computer play game learn basic typing handeye coordination skills jump start coordination skills rest life advances technology great advances computers also allow people learn worldwide information many times school students asked report different country would hard report without computer student would need go different books find specific information needed internet project get done lot faster typing whatever need know family vacation youve always wanted go need idea go use internet need type vacation spots click enter instantly hundreds choices right front makes life lot simpler remember last time mom dad went business trip couldnt talk busy fix internet communicate caps caps hookup caps computer instantly say good time hows going friend instant message easy seem like standing right next matter seconds conclusion computers advances technology great benefit everyone world computers tech handeye coordination allow one learn information around world allow communication internet happen instantly writers editors newspaper please agree topic advances technology add posotive effects way life support advances todays technology help improve life  "
      ]
     },
     "execution_count": 11,
     "metadata": {},
     "output_type": "execute_result"
    }
   ],
   "source": [
    "comparison_train = pd.DataFrame() # creating df\n",
    "comparison_train['stemmed'] = stem_train # adding stemmed text to df\n",
    "comparison_train['clean_wo_stop'] = clean_text # adding original text to df\n",
    "comparison_train['clean_w_stop'] = clean_w_stop_train\n",
    "pd.set_option('display.max_colwidth', -1) # expanding column width to show full text\n",
    "comparison_train.head(2) # printing first few rows of df to show the stemmed text compared to cleaned"
   ]
  },
  {
   "cell_type": "markdown",
   "id": "20df545f",
   "metadata": {},
   "source": [
    "- I experimented with using `spacy` to tokenize and lemmatize the data but I ran into memory and storage issues with `spacy` and would've had to split up my dataframe into parts and put it back together at the end. Using `PorterStemmer` seemed like the simpler and more efficient method which would take in the entire column of essay data, output the stemmed words, and I could easily create a list of those stemmed words for each essay in a dataframe.\n",
    "- In my dataframe above, I included a column with a list of the stemmed words along with one column of cleaned text including stopwords and one column of cleaned text excluding stopwords. I notice that for words like \"computer\", \"people\" or \"advance\", `PorterStemmer` cuts the word to \"comput\", \"peopl\" and \"advanc\" and it seems to only do this with words ending in \"e\" or \"er\".\n",
    "- Since I only stemmed the cleaned text without stopwords, I only see unique words listed in the 'stemmed' column of my dataframe."
   ]
  },
  {
   "cell_type": "markdown",
   "id": "dbdb73d4",
   "metadata": {},
   "source": [
    "## 6:"
   ]
  },
  {
   "cell_type": "markdown",
   "id": "3af0cf2d",
   "metadata": {},
   "source": [
    "I will be using `CountVectorizer` to tokenize my cleaned essay data without stopwords usign unigrams. I will also display the frequency at which these unigrams occur and display the unique unigrams. "
   ]
  },
  {
   "cell_type": "code",
   "execution_count": 12,
   "id": "8f8a05f5",
   "metadata": {},
   "outputs": [],
   "source": [
    "from sklearn.feature_extraction.text import CountVectorizer\n",
    "\n",
    "train_text = comparison_train['clean_wo_stop'] #['stemmed'].iloc[0:1] # selecting column with stemmed words\n",
    "#train_text.dropna() # dropping NaN from df\n",
    "\n",
    "# defining parameter (1,1) to pull out unigrams\n",
    "cv = CountVectorizer(stop_words=stopeng, ngram_range=(1,1))\n",
    "\n",
    "# creating matrix of unigrams\n",
    "unigrams_train = cv.fit_transform(train_text)\n",
    "\n",
    "# creating list of ngrams\n",
    "vocab = cv.vocabulary_ \n",
    "\n",
    "# calculating frequency of unigrams\n",
    "count_values = unigrams_train.toarray().sum(axis=0) \n",
    "# creating dataframe of unigrams, frequencies and renaming columns\n",
    "unigrams_train = pd.DataFrame(sorted([(count_values[i], k) for k,i in vocab.items()], reverse=True)).rename(columns={0: 'frequency', 1:'unigrams'}) \n",
    "comparison_train['unigrams'] = unigrams_train['unigrams']"
   ]
  },
  {
   "cell_type": "code",
   "execution_count": 13,
   "id": "1b64ca80",
   "metadata": {},
   "outputs": [
    {
     "name": "stdout",
     "output_type": "stream",
     "text": [
      "Number of Unique Unigrams: 14430\n"
     ]
    }
   ],
   "source": [
    "# displaying number of unique unigrams\n",
    "print('Number of Unique Unigrams:', len(np.unique(unigrams_train['unigrams'])))"
   ]
  },
  {
   "cell_type": "markdown",
   "id": "55513858",
   "metadata": {},
   "source": [
    "- I didn't set lower or upper bounds on the frequency but I can visually see that words occuring less than 10 times might be removed. At the very bottom of the dataframe, we start getting words like \"aaamous\" that occur once which could've been removed since it wouldn't have much of an impact for classification purposes when we move to analysis. \n",
    "- There are also 14430 unique unigrams in my vocabulary when all the unigrams are included."
   ]
  },
  {
   "cell_type": "markdown",
   "id": "ceb14ae8",
   "metadata": {},
   "source": [
    "## 7:"
   ]
  },
  {
   "cell_type": "markdown",
   "id": "28f7b33d",
   "metadata": {},
   "source": [
    "Process the test data in a manner identical to the training data. Note that you will need to\n",
    "have the same dimensions for your training and test data. One way in which this can be done\n",
    "is using sklearn’s CountVectorizer is to fit on the training data and transform the test data.\n",
    "Show that the number of features for your training and test data are identical."
   ]
  },
  {
   "cell_type": "code",
   "execution_count": 14,
   "id": "e4024ad4",
   "metadata": {},
   "outputs": [],
   "source": [
    "# converting test set df to list\n",
    "test_list = test['essay'].tolist()"
   ]
  },
  {
   "cell_type": "code",
   "execution_count": 15,
   "id": "6c54c8f8",
   "metadata": {},
   "outputs": [],
   "source": [
    "# processing test data without removing stopwords\n",
    "# cleaning test set\n",
    "clean_w_stop_test = [] # creating empty list to append cleaned words\n",
    "for row in test_list:\n",
    "    row = row.lower() # making all letters lowercase\n",
    "    #remove other special characters\n",
    "    row = re.sub('[^A-Za-z .-]+', '', row) \n",
    "    #remove digits\n",
    "    row = re.sub('\\d+', '', row)\n",
    "    row = row.strip(\" \")\n",
    "    row = re.sub('\\s+', ' ', row)\n",
    "    row = re.sub('\\-','', row)\n",
    "    row = re.sub('\\.','', row)\n",
    "    row = re.sub('\\n','', row)\n",
    "    row = re.sub('\\,','', row)\n",
    "    tokens = word_tokenize( row.lower() )\n",
    "    cleaned_words = \" \".join(tokens)\n",
    "    clean_w_stop_test.append(cleaned_words) "
   ]
  },
  {
   "cell_type": "code",
   "execution_count": 16,
   "id": "355f1ea7",
   "metadata": {},
   "outputs": [],
   "source": [
    "# processing test data and removing stopwords\n",
    "\n",
    "# cleaning test set\n",
    "clean_test = [] # creating empty list to append cleaned words\n",
    "for row in test_list:\n",
    "    row = row.lower() # making all letters lowercase\n",
    "    #remove other special characters\n",
    "    row = re.sub('[^A-Za-z .-]+', '', row) \n",
    "    # removing other words I'm treating as stopwords\n",
    "    row  = re.sub(r'get', '', row)\n",
    "    row  = re.sub(r'also', '', row)\n",
    "    row  = re.sub(r'use', '', row)\n",
    "    row  = re.sub(r'like', '', row)\n",
    "    row  = re.sub(r'would', '', row)\n",
    "    row  = re.sub(r'could', '', row)\n",
    "    row  = re.sub(r'dont', '', row)\n",
    "    row  = re.sub(r'many', '', row)\n",
    "    row  = re.sub(r'want', '', row)\n",
    "    row  = re.sub(r'much', '', row)\n",
    "    #remove digits\n",
    "    row = re.sub('\\d+', '', row)\n",
    "    row = row.strip(\" \")\n",
    "    row = re.sub('\\s+', ' ', row)\n",
    "    row = re.sub('\\-','', row)\n",
    "    row = re.sub('\\.','', row)\n",
    "    row = re.sub('\\n','', row)\n",
    "    row = re.sub('\\,','', row)\n",
    "    tokens = word_tokenize( row.lower() )\n",
    "    tokens_nostop = [w for w in tokens if w not in stopeng] # removing stopwords from nltk dictionary\n",
    "    cleaned_words = \" \".join(tokens_nostop)\n",
    "    clean_test.append(cleaned_words) "
   ]
  },
  {
   "cell_type": "code",
   "execution_count": 17,
   "id": "1edd4cd3",
   "metadata": {},
   "outputs": [],
   "source": [
    "# stemming testing set\n",
    "stem_test = [[ps.stem(word) for word in sentence.split(\" \")] for sentence in list(clean_test)]"
   ]
  },
  {
   "cell_type": "code",
   "execution_count": 18,
   "id": "b7c402f1",
   "metadata": {},
   "outputs": [
    {
     "name": "stderr",
     "output_type": "stream",
     "text": [
      "/var/folders/b7/rmg3hfx52jv9khn6bbm73w8c0000gn/T/ipykernel_3165/500936892.py:6: FutureWarning: Passing a negative integer is deprecated in version 1.0 and will not be supported in future version. Instead, use None to not limit the column width.\n",
      "  pd.set_option('display.max_colwidth', -1) # expanding column width to show full text\n"
     ]
    }
   ],
   "source": [
    "# comparing stemmed test set and original test set\n",
    "comparison_test = pd.DataFrame() # creating df\n",
    "comparison_test['stemmed'] = stem_test # adding stemmed text to df\n",
    "comparison_test['clean_wo_stop'] = clean_test # adding original text to df\n",
    "comparison_test['clean_w_stop'] = clean_w_stop_test # adding column w clean text w stopwords\n",
    "pd.set_option('display.max_colwidth', -1) # expanding column width to show full text"
   ]
  },
  {
   "cell_type": "code",
   "execution_count": 19,
   "id": "56b2850b",
   "metadata": {},
   "outputs": [],
   "source": [
    "# tokenizing stemmed, cleaned test set with unigrams using same code I wrote for train set\n",
    "\n",
    "test_text = (comparison_test['clean_wo_stop']) # selecting column with stemmed words\n",
    "test_text = test_text.dropna() # dropping NaN from df\n",
    "\n",
    "# defining parameter (1,1) to pull out unigrams\n",
    "cv = CountVectorizer(stop_words=stopeng, ngram_range=(1,1))\n",
    "\n",
    "# creating matrix of unigrams\n",
    "unigrams_test = cv.fit_transform(test_text)\n",
    "\n",
    "# creating list of ngrams\n",
    "vocab = cv.vocabulary_ \n",
    "\n",
    "# calculating frequency of unigrams\n",
    "count_values = unigrams_test.toarray().sum(axis=0) \n",
    "# creating dataframe of unigrams, frequencies and renaming columns\n",
    "unigrams_test = pd.DataFrame(sorted([(count_values[i], k) for k,i in vocab.items()], reverse=True)).rename(columns={0: 'frequency', 1:'unigrams'}) \n",
    "comparison_test['unigrams'] = unigrams_test['unigrams']"
   ]
  },
  {
   "cell_type": "code",
   "execution_count": 20,
   "id": "29408959",
   "metadata": {},
   "outputs": [
    {
     "name": "stdout",
     "output_type": "stream",
     "text": [
      "Training set features:                                                                                                                                                                                                                                                                                                                                                                                                                                                                                                                                                                                                                                                                                                                                                          stemmed  \\\n",
      "0  [dear, editor, ever, know, someth, badli, cant, focu, anyth, els, ever, tri, find, inform, anahhah, moment, search, knowledg, probabl, comput, need, type, request, hit, enter, viola, screen, fill, choic, inform, site, comput, help, peopl, everyday, question, countri, gotten, smarter, comput, convers, friend, move, across, state, countri, even, world, everi, click, mo, new, thing, learn, even, comput, person, enjoy, comput, open, opportun, world, need, lake, four, year, old, best, friend, time, move, florida, devastad, first, tri, write, letter, ohter, grew, older, becam, busier, busier, connect, halt, technolog, comput, advanc, friend, text, email, instant, messag, time, made, long, distanc, friendship, easier, closer, ...]   \n",
      "\n",
      "                                                                                                                                                                                                                                                                                                                                                                                                                                                                                                                                                                                                                                                                                                                                                                                                                                                                                                                                                                                                                                                                                                                                                                                                                                                                                                                                                                                                                                                                                                                                                                                                                                                                                                                                                                                                                                                                                                                                                                                                                                                                                                                                                                                                 clean_wo_stop  \\\n",
      "0  dear editor ever know something badly cant focus anything else ever tried find information anahhah moment search knowledge probably computer need type request hit enter viola screen fills choices information sites computers help people everyday questions country gotten smarter computers converse friends moved across state country even world every click mo new things learn even computer personal enjoyment computers opened opportunities world needs lake four years old best friends time moved florida devastaded first tried writing letters ohter grew older became busier busier connection halted technology computers advanced friend text email instant message time made long distance friendship easier closer computers communicate friends thought longlost meet new people one sites available talk someone way location world communication opened business opportunities since economy failing computers open job spaces help college students study futur career hopefully help improve lives people communication needed things make world better generations came instead going noisy arcade play exciting games right privacy game think probably found caps simple game solitare advanced level shift games age difficulty level found new people month think kids going sit front computer play games going peole ref go outside spend time friends read outside definitely people cant help ref go outside know people spend bud time wisely still great time encourage kids exercise programs computers video games improve health fun games help better healthier person still fun computers homes right equipped information tried take overwhelmed organization popular search engine gives power look anything ever wait know vice presidents birthday price eggs location wide location found click button knowledge helps homework assignments incredibly reference books date information inaccurate computers updated frequently facts time think country gotten smarter computers whether talk longlost friend location talk expert osprey location find answer computer youre play couple exciting games learn best movies ever released date fun learn lots   \n",
      "\n",
      "                                                                                                                                                                                                                                                                                                                                                                                                                                                                                                                                                                                                                                                                                                                                                                                                                                                                                                                                                                                                                                                                                                                                                                                                                                                                                                                                                                                                                                                                                                                                                                                                                                                                                                                                                                                                                                                                                                                                                                                                                                                                                                                                                                                                                                                                                                                                       clean_w_stop  \\\n",
      "0  dear editor ever would know something badly cant focus anything else ever tried find information anahhah moment use search knowledge probably used computer need type request hit enter viola screen fills choices information sites computers help many people everyday questions country gotten smarter computers converse friends moved across state country even world every click mouse new things learn even use computer personal enjoyment computers opened many opportunities world needs lake four years old best friends time moved florida devastaded first tried writing letters ohter grew older became busier busier connection halted technology computers advanced friend text email instant message time made long distance friendship easier closer computers communicate friends thought longlost also meet new people one many sites available would like talk someone way location world communication also opened many business opportunities since economy failing computers open job spaces help college students study futur career hopefully help improve lives many people communication needed many things make world better generations came instead going noisy arcade play exciting games right privacy game think probably found caps simple game solitare advanced level shift games age difficulty level found new people month think kids going sit front computer play games going peole refuse go outside spend time friends read outside definitely people like cant help refuse go outside know many people spend budget time wisely still great time also encourage kids use exercise programs computers video games improve health many fun games help better healthier person still fun computers homes right equipped much information tried take would overwhelmed organization popular search engine gives power look anything could ever wait know vice presidents birthday price eggs location wide location found click button knowledge helps homework assignments incredibly reference books date information inaccurate computers updated frequently facts time think country gotten much smarter computers whether want talk longlost friend location talk expert osprey location find answer computer youre play couple exciting games learn best movies ever released date fun learn lots   \n",
      "\n",
      "    unigrams  \n",
      "0  computers  \n",
      "Testing set features:                                                                                                                                                                                                                                                                                                                                                                                                                                                                                                                                                                                                                                                                                                      stemmed  \\\n",
      "0  [dear, cap, cap, peopl, world, coumput, know, comput, surch, internet, game, work, school, peopl, think, comput, good, help, teach, hand, eye, coordin, learn, place, world, talk, peopl, onlin, num, grade, mystic, middl, school, think, comput, good, peopl, think, ever, heard, comput, camp, kid, go, addict, comput, camp, kid, pull, away, comput, pritti, forc, join, grope, activ, fish, work, toher, solv, mysteri, camp, pritti, known, reliabl, kid, addict, comput, anoth, reason, comput, bad, internet, internet, danger, place, chat, peopl, even, know, never, know, peopl, mess, head, tri, find, cap, come, alway, car, talk, wise, noth, eve, realli, goe, right, comput, alway, ...]   \n",
      "\n",
      "                                                                                                                                                                                                                                                                                                                                                                                                                                                                                                                                                                                                                                                                                                                                                                                                                                                                                                                                                                                                                                                                                                  clean_wo_stop  \\\n",
      "0  dear caps caps people world coumputers know computers surching internet games work school people think computers good help teach hand eye coordination learn places world talk people online num grade mystic middle school think computers good people think ever heard computer camps kids go addicted computer camp kids pulled away computer pritty forced join gropes activitys fishing working toher solve mystery camp pritty known reliable kids addicted computer another reason computers bad internet internet dangerous place chat people even know never know people messed head try find caps come always carful talk wise nothing eve really goes right computers alway ting slower slower every time every two years kid parent go throw computer computer doesnt right caps vins cost person hundred dollars fixed thing happen time computer caps die work caps data gone forever explaines part computers people think different end one people camp computer never know forever never found alread know caps coomputers fixed might find caps hard way think computers ca truble peolple   \n",
      "\n",
      "                                                                                                                                                                                                                                                                                                                                                                                                                                                                                                                                                                                                                                                                                                                                                                                                                                                                                                                                                                                                                                                                                                                                                                                                                                                    clean_w_stop  \\\n",
      "0  dear caps caps people world use coumputers know computers used like surching internet games work school people think computers good use help teach hand eye coordination learn places world talk people online num grade mystic middle school think computers good people think ever heard computer camps kids go addicted computer camp kids pulled away computer pritty much forced join gropes activitys like fishing working together solve mystery camp pritty much known reliable kids addicted computer another reason computers bad internet internet dangerous place chat people dont even know never know people could messed head try find caps like come always carful talk wise could get nothing eve really goes right computers alway getting slower slower every time use every two years kid parent could go throw computer also computer doesnt right caps could get vins cost person hundred dollars get fixed thing could happen time computer caps could die work caps data gone forever explaines part computers people think different would want end like one people camp computer much never know could forever never found alread know caps much coomputers get fixed might find caps hard way think computers cause truble peolple   \n",
      "\n",
      "    unigrams  \n",
      "0  computers  \n"
     ]
    }
   ],
   "source": [
    "print('Training set features:', comparison_test.head(1)) # printing first few rows of df to show the stemmed text compared to cleaned\n",
    "print('Testing set features:', comparison_train.head(1))"
   ]
  },
  {
   "cell_type": "code",
   "execution_count": 21,
   "id": "605616cb",
   "metadata": {},
   "outputs": [
    {
     "name": "stdout",
     "output_type": "stream",
     "text": [
      "Training set Shape: (1515, 4)\n",
      "Test set Shape: (268, 4)\n"
     ]
    }
   ],
   "source": [
    "print('Training set Shape:', comparison_train.shape)\n",
    "print('Test set Shape:', comparison_test.shape)"
   ]
  },
  {
   "cell_type": "markdown",
   "id": "c0947dcb",
   "metadata": {},
   "source": [
    "- I included the features: 'stemmed', 'clean_w_stop', 'clean_wo_stop' and 'unigrams' which are the stemmed words from the cleaned text excluding stopwords, the cleaned text with stopwords, the cleaned text without stopwords and the unigram for each essay.\n",
    "- Both the training and test sets have these three features included in their dataframes. And their shapes are still consistent with their shapes before text processing."
   ]
  },
  {
   "cell_type": "markdown",
   "id": "c822d676",
   "metadata": {},
   "source": [
    "## Supervised Learning"
   ]
  },
  {
   "cell_type": "markdown",
   "id": "4228d77b",
   "metadata": {},
   "source": [
    "## 7:"
   ]
  },
  {
   "cell_type": "markdown",
   "id": "eb872045",
   "metadata": {},
   "source": [
    "I plan to use `TextBlob` to conduct sentiment analysis on the essay text and include a 'polarity' feature and a 'subjectivity' feature for both the training and test sets. I also plan to include the word count of the original essay text including all words and punctuation marks as a feature. I will also be including the parts of speech as a feature in both sets where I plan to use `NLP` from the `nltk` library."
   ]
  },
  {
   "cell_type": "code",
   "execution_count": 22,
   "id": "59889c8e",
   "metadata": {},
   "outputs": [],
   "source": [
    "# sentiment analysis with TextBlob\n",
    "from textblob import TextBlob\n",
    "\n",
    "pol = lambda x: TextBlob(x).sentiment.polarity \n",
    "sub = lambda x: TextBlob(x).sentiment.subjectivity \n",
    "\n",
    "comparison_train['polarity'] = comparison_train['clean_w_stop'].apply(pol) # applying the polarity function to each row to calculate polarity\n",
    "comparison_train['subjectivity'] = comparison_train['clean_w_stop'].apply(sub) # applying the subjectivity function to each row to calculate subjectivity\n",
    "comparison_test['polarity'] = comparison_test['clean_w_stop'].apply(pol) # applying the polarity function to each row to calculate polarity\n",
    "comparison_test['subjectivity'] = comparison_test['clean_w_stop'].apply(sub) # applying subjectivity function to calculate subjectivity for each row"
   ]
  },
  {
   "cell_type": "code",
   "execution_count": 23,
   "id": "2a3fa5b7",
   "metadata": {},
   "outputs": [],
   "source": [
    "# parts of speech for training set\n",
    "train_list = list(comparison_train['clean_w_stop']) # converting clean with stopwords tweets to list\n",
    "pos = nltk.pos_tag(train_list) # POS tagging for each tokenized tweet\n",
    "\n",
    "pos_df = pd.DataFrame(pos) # creating df with tags\n",
    "pos_df.rename(columns = {0: 'text'}, inplace = True) # renaming column headers\n",
    "pos_df.rename(columns = {1: 'POS'}, inplace = True)\n",
    "comparison_train['POS'] = pos_df['POS']\n",
    "\n",
    "# retrieving POS for test set\n",
    "test_list = list(comparison_test['clean_w_stop'])\n",
    "pos_test = nltk.pos_tag(test_list)\n",
    "pos_test_df = pd.DataFrame(pos_test)\n",
    "pos_test_df.rename(columns = {1: 'POS'}, inplace = True)\n",
    "comparison_test['POS'] = pos_test_df['POS']"
   ]
  },
  {
   "cell_type": "code",
   "execution_count": 24,
   "id": "cf77d5d1",
   "metadata": {},
   "outputs": [
    {
     "data": {
      "text/html": [
       "<div>\n",
       "<style scoped>\n",
       "    .dataframe tbody tr th:only-of-type {\n",
       "        vertical-align: middle;\n",
       "    }\n",
       "\n",
       "    .dataframe tbody tr th {\n",
       "        vertical-align: top;\n",
       "    }\n",
       "\n",
       "    .dataframe thead th {\n",
       "        text-align: right;\n",
       "    }\n",
       "</style>\n",
       "<table border=\"1\" class=\"dataframe\">\n",
       "  <thead>\n",
       "    <tr style=\"text-align: right;\">\n",
       "      <th></th>\n",
       "      <th>stemmed</th>\n",
       "      <th>clean_wo_stop</th>\n",
       "      <th>clean_w_stop</th>\n",
       "      <th>unigrams</th>\n",
       "      <th>polarity</th>\n",
       "      <th>subjectivity</th>\n",
       "      <th>POS</th>\n",
       "      <th>word_count</th>\n",
       "    </tr>\n",
       "  </thead>\n",
       "  <tbody>\n",
       "    <tr>\n",
       "      <th>0</th>\n",
       "      <td>[dear, cap, cap, peopl, world, coumput, know, comput, surch, internet, game, work, school, peopl, think, comput, good, help, teach, hand, eye, coordin, learn, place, world, talk, peopl, onlin, num, grade, mystic, middl, school, think, comput, good, peopl, think, ever, heard, comput, camp, kid, go, addict, comput, camp, kid, pull, away, comput, pritti, forc, join, grope, activ, fish, work, toher, solv, mysteri, camp, pritti, known, reliabl, kid, addict, comput, anoth, reason, comput, bad, internet, internet, danger, place, chat, peopl, even, know, never, know, peopl, mess, head, tri, find, cap, come, alway, car, talk, wise, noth, eve, realli, goe, right, comput, alway, ...]</td>\n",
       "      <td>dear caps caps people world coumputers know computers surching internet games work school people think computers good help teach hand eye coordination learn places world talk people online num grade mystic middle school think computers good people think ever heard computer camps kids go addicted computer camp kids pulled away computer pritty forced join gropes activitys fishing working toher solve mystery camp pritty known reliable kids addicted computer another reason computers bad internet internet dangerous place chat people even know never know people messed head try find caps come always carful talk wise nothing eve really goes right computers alway ting slower slower every time every two years kid parent go throw computer computer doesnt right caps vins cost person hundred dollars fixed thing happen time computer caps die work caps data gone forever explaines part computers people think different end one people camp computer never know forever never found alread know caps coomputers fixed might find caps hard way think computers ca truble peolple</td>\n",
       "      <td>dear caps caps people world use coumputers know computers used like surching internet games work school people think computers good use help teach hand eye coordination learn places world talk people online num grade mystic middle school think computers good people think ever heard computer camps kids go addicted computer camp kids pulled away computer pritty much forced join gropes activitys like fishing working together solve mystery camp pritty much known reliable kids addicted computer another reason computers bad internet internet dangerous place chat people dont even know never know people could messed head try find caps like come always carful talk wise could get nothing eve really goes right computers alway getting slower slower every time use every two years kid parent could go throw computer also computer doesnt right caps could get vins cost person hundred dollars get fixed thing could happen time computer caps could die work caps data gone forever explaines part computers people think different would want end like one people camp computer much never know could forever never found alread know caps much coomputers get fixed might find caps hard way think computers cause truble peolple</td>\n",
       "      <td>computers</td>\n",
       "      <td>0.051566</td>\n",
       "      <td>0.446303</td>\n",
       "      <td>JJ</td>\n",
       "      <td>192</td>\n",
       "    </tr>\n",
       "    <tr>\n",
       "      <th>1</th>\n",
       "      <td>[dear, newspap, believ, advanc, technolog, posit, effect, comput, comput, great, peopl, age, comput, teach, handey, coordin, allow, peopl, learn, inform, world, lastli, comput, allow, peopl, commun, internet, advanc, technolog, improv, societi, way, life, around, globe, advanc, technolog, amaz, comput, show, advanc, greatli, simpl, comput, one, learn, great, handey, coordin, skill, type, skill, great, exampl, type, skill, need, almost, everyon, world, without, comput, one, skill, young, child, go, comput, play, game, learn, basic, type, handey, coordin, skill, jump, start, coordin, skill, rest, life, advanc, technolog, great, advanc, comput, allow, peopl, learn, worldwid, inform, time, school, student, ask, report, differ, countri, hard, ...]</td>\n",
       "      <td>dear newspaper believe advances technology positive effects computers computers great people ages computers teach handeye coordination allow people learn information world lastly computers allow people communicate internet advances technology improve society way life around globe advances technology amazing computers show advances greatly simple computer one learn great handeye coordination skills typing skills great example typing skills needed almost everyone world without computers one skills young child go computer play game learn basic typing handeye coordination skills jump start coordination skills rest life advances technology great advances computers allow people learn worldwide information times school students asked report different country hard report without computer student need go different books find specific information needed internet project done lot faster typing whatever need know family vacation youve always ed go need idea go internet need type vacation spots click enter instantly hundreds choices right front makes life lot simpler remember last time mom dad went business trip nt talk busy fix internet communicate caps caps hookup caps computer instantly say good time hows going friend instant message easy seem standing right next matter seconds conclusion computers advances technology great benefit everyone world computers tech handeye coordination allow one learn information around world allow communication internet happen instantly writers editors newspaper please agree topic advances technology add posotive effects way life support advances todays technology help improve life</td>\n",
       "      <td>dear newspaper believe advances technology many positive effects computers computers great people ages computers teach handeye coordination allow people learn information world lastly computers allow people communicate internet advances technology improve society way life around globe advances technology amazing computers show advances greatly simple use computer one learn great handeye coordination skills typing skills great example typing skills needed almost everyone world without computers one would skills young child go computer play game learn basic typing handeye coordination skills jump start coordination skills rest life advances technology great advances computers also allow people learn worldwide information many times school students asked report different country would hard report without computer student would need go different books find specific information needed internet project get done lot faster typing whatever need know family vacation youve always wanted go need idea go use internet need type vacation spots click enter instantly hundreds choices right front makes life lot simpler remember last time mom dad went business trip couldnt talk busy fix internet communicate caps caps hookup caps computer instantly say good time hows going friend instant message easy seem like standing right next matter seconds conclusion computers advances technology great benefit everyone world computers tech handeye coordination allow one learn information around world allow communication internet happen instantly writers editors newspaper please agree topic advances technology add posotive effects way life support advances todays technology help improve life</td>\n",
       "      <td>people</td>\n",
       "      <td>0.242771</td>\n",
       "      <td>0.515484</td>\n",
       "      <td>NN</td>\n",
       "      <td>234</td>\n",
       "    </tr>\n",
       "    <tr>\n",
       "      <th>2</th>\n",
       "      <td>[think, capss, comput, help, self, use, comput, first, capss, comput, ed, take, note, go, comput, write, comput, faster, write, comput, type, comput, look, ever, look, exampl, teacher, ask, look, giraff, place, find, giraff, go, comput, search, giraff, that, reason, look, thing, easier, look, thing, instead, look, way, last, project, involv, pictur, know, find, go, comput, find, search, done, found, everyth, see, cap, let, student, comput, insd, classroomschool, easi, help]</td>\n",
       "      <td>think capss computers help selfs using computer first capss computers ed take notes go computer write computers faster writing computer type computer look ever look example teacher ask look giraffe place find giraffe go computer search giraffe thats reason look things easier look things instead looking way lastely project involves pictures know find go computer find searching done found everything see caps let students computers insde classroomschools easy help</td>\n",
       "      <td>think capss use computers help selfs using computer first capss use computers wanted take notes go computer write computers faster writing computer type use computer look ever want look example teacher ask look giraffe place find giraffe go computer search giraffe thats reason look things easier look things instead looking way lastely project involves pictures dont know find go computer find searching done found everything see caps let students use computers insde classroomschools get easy help</td>\n",
       "      <td>computer</td>\n",
       "      <td>0.341667</td>\n",
       "      <td>0.583333</td>\n",
       "      <td>NN</td>\n",
       "      <td>76</td>\n",
       "    </tr>\n",
       "    <tr>\n",
       "      <th>3</th>\n",
       "      <td>[child, suce, life, comput, valuabl, everyday, life, comput, help, children, educ, independ, how, anyan, tell, new, comput, cap, colleg, take, note, quickli, fall, behind, whycomput, import, everyday, life, comput, import, child, proper, educ, need, percent, children, thev, internet, student, studi, one, grade, ahead, best, classmat, dr, person, comput, cope, say, cap, use, comput, research, topic, went, leperdi, date, num, date, comput, see, comput, valuabl, item, everyday, life, comput, import, everyday, life, help, children, independ, learn, differ, part, internet, percent, percent, children, internet, ly, succeed, colleg, know, websit, go, percent, chanc, children, succeed, colleg, higher, pay, job, theyv, person, comput, expect, ...]</td>\n",
       "      <td>child suceed life computers valuable everyday life computers help children education independent hows anyane tell new computer caps college take notes quickly fall behind whycomputers important everyday life computers important child proper education need percent children thev internet students studies ones grade ahead best classmates dr person computer cope says caps using computer research topic went leperdy date num date computers see computers valuable items everyday life computers important everyday life helps children independent learn different parts internet percent percent children internet ly succeed college know websites go percent chance children succeed college higher paying jobs theyve person computer expect says caps son organization caps smart caps always computer looking new facts ideas popped head caps student hard computers valuable everyday life computers impotant look sites help eat health foods percent adults health foods ly live even num years life bodies health conditions theyve eating fruits drinking keep bones strong caps fall caps older see using internet helpful right way using internet help successful person life</td>\n",
       "      <td>want child suceed life computers valuable everyday life computers help children get education independent hows anyane tell new use computer caps get college take notes quickly fall behind whycomputers important everyday life computers important child get proper education need percent children uses thev internet students studies ones grade ahead best classmates dr person computer cope says caps using computer research topic went leperdy date num date computers see computers valuable items used everyday life computers important everyday life helps children independent learn use different parts internet percent percent children use internet likely succeed college know websites go get percent chance children succeed college get higher paying jobs theyve person computer expect says caps son organization caps smart caps always computer looking new facts ideas popped head caps student hard get computers valuable everyday life computers impotant look sites help eat health foods percent adults health foods likely live even num years life bodies health conditions theyve eating fruits drinking keep bones strong caps fall caps older see using internet helpful used right way using internet help successful person want life</td>\n",
       "      <td>caps</td>\n",
       "      <td>0.124102</td>\n",
       "      <td>0.596148</td>\n",
       "      <td>NN</td>\n",
       "      <td>180</td>\n",
       "    </tr>\n",
       "    <tr>\n",
       "      <th>4</th>\n",
       "      <td>[dear, local, newspap, comput, import, peopl, everyon, isnt, bad, comput, still, excersis, abl, thing, everyday, let, say, need, look, someth, thing, alway, go, inform, comput, peopl, school, industri, home, time, teenag, usual, go, comput, talk, friend, mayb, play, game, know, wast, time, bore, day, excersis, activ, inde, good, teenag, realli, look, even, though, push, away, comput, alway, anymor, homework, finish, run, around, neighborhood, friend, cant, imagin, life, come, home, soccer, practic, done, homework, comput, cap, one, first, place, run, sit, back, relax, comput, known, friend, wont, hurt, us, give, us, need, reaserch, good, exampl, everyon, comput, find, whatev, peopl, look, ...]</td>\n",
       "      <td>dear local newspaper computers important people everyone isnt bad computer still excersise able things everyday lets say need look something thing always go information computer people schools industries homes time teenagers usually go computer talk friends maybe play games know waste time bored day excersising active indeed good teenagers really look even though push away computer always anymore homework finish running around neighborhood friends cant imagine life coming home soccer practice done homework computer caps one first places run sit back relax computers known friends wont hurt us give us need reaserch good example everyone computer find whatever people looking theyre done reaserching little fun games friends believe main purpose computers information whenever home school finish homework stretch little cheerleading whatch caps go computer im bored im active im working excersising nothing make time occupied everyone im one yes computers square box keyboard push away peoples common lives see arent say wont rot peoples brain anything reason office living room bedroom people needs</td>\n",
       "      <td>dear local newspaper computers important people everyone uses used isnt bad computer still excersise able things everyday lets say need look something thing always go information computer people schools industries homes use time teenagers usually go computer talk friends maybe play games know dont waste time bored day excersising active indeed good teenagers really look even though dont push away computer always dont anymore homework finish running around neighborhood friends cant imagine life would like coming home soccer practice done homework computer caps one first places run sit back relax computers known friends wont hurt us give us need want reaserch good example everyone uses computer find whatever people looking theyre done reaserching little fun games friends believe main purpose computers information whenever get home school finish homework stretch little cheerleading whatch caps go computer im bored im active im working excersising nothing make time occupied everyone im one yes computers square box keyboard dont push away peoples common lives see arent say wont rot peoples brain anything reason office living room bedroom people like uses needs</td>\n",
       "      <td>time</td>\n",
       "      <td>-0.003571</td>\n",
       "      <td>0.481349</td>\n",
       "      <td>NNS</td>\n",
       "      <td>177</td>\n",
       "    </tr>\n",
       "  </tbody>\n",
       "</table>\n",
       "</div>"
      ],
      "text/plain": [
       "                                                                                                                                                                                                                                                                                                                                                                                                                                                                                                                                                                                                                                                                                                                                                                            stemmed  \\\n",
       "0  [dear, cap, cap, peopl, world, coumput, know, comput, surch, internet, game, work, school, peopl, think, comput, good, help, teach, hand, eye, coordin, learn, place, world, talk, peopl, onlin, num, grade, mystic, middl, school, think, comput, good, peopl, think, ever, heard, comput, camp, kid, go, addict, comput, camp, kid, pull, away, comput, pritti, forc, join, grope, activ, fish, work, toher, solv, mysteri, camp, pritti, known, reliabl, kid, addict, comput, anoth, reason, comput, bad, internet, internet, danger, place, chat, peopl, even, know, never, know, peopl, mess, head, tri, find, cap, come, alway, car, talk, wise, noth, eve, realli, goe, right, comput, alway, ...]                                                                          \n",
       "1  [dear, newspap, believ, advanc, technolog, posit, effect, comput, comput, great, peopl, age, comput, teach, handey, coordin, allow, peopl, learn, inform, world, lastli, comput, allow, peopl, commun, internet, advanc, technolog, improv, societi, way, life, around, globe, advanc, technolog, amaz, comput, show, advanc, greatli, simpl, comput, one, learn, great, handey, coordin, skill, type, skill, great, exampl, type, skill, need, almost, everyon, world, without, comput, one, skill, young, child, go, comput, play, game, learn, basic, type, handey, coordin, skill, jump, start, coordin, skill, rest, life, advanc, technolog, great, advanc, comput, allow, peopl, learn, worldwid, inform, time, school, student, ask, report, differ, countri, hard, ...]   \n",
       "2  [think, capss, comput, help, self, use, comput, first, capss, comput, ed, take, note, go, comput, write, comput, faster, write, comput, type, comput, look, ever, look, exampl, teacher, ask, look, giraff, place, find, giraff, go, comput, search, giraff, that, reason, look, thing, easier, look, thing, instead, look, way, last, project, involv, pictur, know, find, go, comput, find, search, done, found, everyth, see, cap, let, student, comput, insd, classroomschool, easi, help]                                                                                                                                                                                                                                                                                     \n",
       "3  [child, suce, life, comput, valuabl, everyday, life, comput, help, children, educ, independ, how, anyan, tell, new, comput, cap, colleg, take, note, quickli, fall, behind, whycomput, import, everyday, life, comput, import, child, proper, educ, need, percent, children, thev, internet, student, studi, one, grade, ahead, best, classmat, dr, person, comput, cope, say, cap, use, comput, research, topic, went, leperdi, date, num, date, comput, see, comput, valuabl, item, everyday, life, comput, import, everyday, life, help, children, independ, learn, differ, part, internet, percent, percent, children, internet, ly, succeed, colleg, know, websit, go, percent, chanc, children, succeed, colleg, higher, pay, job, theyv, person, comput, expect, ...]       \n",
       "4  [dear, local, newspap, comput, import, peopl, everyon, isnt, bad, comput, still, excersis, abl, thing, everyday, let, say, need, look, someth, thing, alway, go, inform, comput, peopl, school, industri, home, time, teenag, usual, go, comput, talk, friend, mayb, play, game, know, wast, time, bore, day, excersis, activ, inde, good, teenag, realli, look, even, though, push, away, comput, alway, anymor, homework, finish, run, around, neighborhood, friend, cant, imagin, life, come, home, soccer, practic, done, homework, comput, cap, one, first, place, run, sit, back, relax, comput, known, friend, wont, hurt, us, give, us, need, reaserch, good, exampl, everyon, comput, find, whatev, peopl, look, ...]                                                     \n",
       "\n",
       "                                                                                                                                                                                                                                                                                                                                                                                                                                                                                                                                                                                                                                                                                                                                                                                                                                                                                                                                                                                                                                                                                                                                                                                                                                                                                                                                                                                                                                                                                                                                                                                                                                                                                   clean_wo_stop  \\\n",
       "0  dear caps caps people world coumputers know computers surching internet games work school people think computers good help teach hand eye coordination learn places world talk people online num grade mystic middle school think computers good people think ever heard computer camps kids go addicted computer camp kids pulled away computer pritty forced join gropes activitys fishing working toher solve mystery camp pritty known reliable kids addicted computer another reason computers bad internet internet dangerous place chat people even know never know people messed head try find caps come always carful talk wise nothing eve really goes right computers alway ting slower slower every time every two years kid parent go throw computer computer doesnt right caps vins cost person hundred dollars fixed thing happen time computer caps die work caps data gone forever explaines part computers people think different end one people camp computer never know forever never found alread know caps coomputers fixed might find caps hard way think computers ca truble peolple                                                                                                                                                                                                                                                                                                                                                                                                                                                                                                                                                                                    \n",
       "1  dear newspaper believe advances technology positive effects computers computers great people ages computers teach handeye coordination allow people learn information world lastly computers allow people communicate internet advances technology improve society way life around globe advances technology amazing computers show advances greatly simple computer one learn great handeye coordination skills typing skills great example typing skills needed almost everyone world without computers one skills young child go computer play game learn basic typing handeye coordination skills jump start coordination skills rest life advances technology great advances computers allow people learn worldwide information times school students asked report different country hard report without computer student need go different books find specific information needed internet project done lot faster typing whatever need know family vacation youve always ed go need idea go internet need type vacation spots click enter instantly hundreds choices right front makes life lot simpler remember last time mom dad went business trip nt talk busy fix internet communicate caps caps hookup caps computer instantly say good time hows going friend instant message easy seem standing right next matter seconds conclusion computers advances technology great benefit everyone world computers tech handeye coordination allow one learn information around world allow communication internet happen instantly writers editors newspaper please agree topic advances technology add posotive effects way life support advances todays technology help improve life   \n",
       "2  think capss computers help selfs using computer first capss computers ed take notes go computer write computers faster writing computer type computer look ever look example teacher ask look giraffe place find giraffe go computer search giraffe thats reason look things easier look things instead looking way lastely project involves pictures know find go computer find searching done found everything see caps let students computers insde classroomschools easy help                                                                                                                                                                                                                                                                                                                                                                                                                                                                                                                                                                                                                                                                                                                                                                                                                                                                                                                                                                                                                                                                                                                                                                                                               \n",
       "3  child suceed life computers valuable everyday life computers help children education independent hows anyane tell new computer caps college take notes quickly fall behind whycomputers important everyday life computers important child proper education need percent children thev internet students studies ones grade ahead best classmates dr person computer cope says caps using computer research topic went leperdy date num date computers see computers valuable items everyday life computers important everyday life helps children independent learn different parts internet percent percent children internet ly succeed college know websites go percent chance children succeed college higher paying jobs theyve person computer expect says caps son organization caps smart caps always computer looking new facts ideas popped head caps student hard computers valuable everyday life computers impotant look sites help eat health foods percent adults health foods ly live even num years life bodies health conditions theyve eating fruits drinking keep bones strong caps fall caps older see using internet helpful right way using internet help successful person life                                                                                                                                                                                                                                                                                                                                                                                                                                                                                         \n",
       "4  dear local newspaper computers important people everyone isnt bad computer still excersise able things everyday lets say need look something thing always go information computer people schools industries homes time teenagers usually go computer talk friends maybe play games know waste time bored day excersising active indeed good teenagers really look even though push away computer always anymore homework finish running around neighborhood friends cant imagine life coming home soccer practice done homework computer caps one first places run sit back relax computers known friends wont hurt us give us need reaserch good example everyone computer find whatever people looking theyre done reaserching little fun games friends believe main purpose computers information whenever home school finish homework stretch little cheerleading whatch caps go computer im bored im active im working excersising nothing make time occupied everyone im one yes computers square box keyboard push away peoples common lives see arent say wont rot peoples brain anything reason office living room bedroom people needs                                                                                                                                                                                                                                                                                                                                                                                                                                                                                                                                                \n",
       "\n",
       "                                                                                                                                                                                                                                                                                                                                                                                                                                                                                                                                                                                                                                                                                                                                                                                                                                                                                                                                                                                                                                                                                                                                                                                                                                                                                                                                                                                                                                                                                                                                                                                                                                                                                                                                               clean_w_stop  \\\n",
       "0  dear caps caps people world use coumputers know computers used like surching internet games work school people think computers good use help teach hand eye coordination learn places world talk people online num grade mystic middle school think computers good people think ever heard computer camps kids go addicted computer camp kids pulled away computer pritty much forced join gropes activitys like fishing working together solve mystery camp pritty much known reliable kids addicted computer another reason computers bad internet internet dangerous place chat people dont even know never know people could messed head try find caps like come always carful talk wise could get nothing eve really goes right computers alway getting slower slower every time use every two years kid parent could go throw computer also computer doesnt right caps could get vins cost person hundred dollars get fixed thing could happen time computer caps could die work caps data gone forever explaines part computers people think different would want end like one people camp computer much never know could forever never found alread know caps much coomputers get fixed might find caps hard way think computers cause truble peolple                                                                                                                                                                                                                                                                                                                                                                                                                                                                                              \n",
       "1  dear newspaper believe advances technology many positive effects computers computers great people ages computers teach handeye coordination allow people learn information world lastly computers allow people communicate internet advances technology improve society way life around globe advances technology amazing computers show advances greatly simple use computer one learn great handeye coordination skills typing skills great example typing skills needed almost everyone world without computers one would skills young child go computer play game learn basic typing handeye coordination skills jump start coordination skills rest life advances technology great advances computers also allow people learn worldwide information many times school students asked report different country would hard report without computer student would need go different books find specific information needed internet project get done lot faster typing whatever need know family vacation youve always wanted go need idea go use internet need type vacation spots click enter instantly hundreds choices right front makes life lot simpler remember last time mom dad went business trip couldnt talk busy fix internet communicate caps caps hookup caps computer instantly say good time hows going friend instant message easy seem like standing right next matter seconds conclusion computers advances technology great benefit everyone world computers tech handeye coordination allow one learn information around world allow communication internet happen instantly writers editors newspaper please agree topic advances technology add posotive effects way life support advances todays technology help improve life   \n",
       "2  think capss use computers help selfs using computer first capss use computers wanted take notes go computer write computers faster writing computer type use computer look ever want look example teacher ask look giraffe place find giraffe go computer search giraffe thats reason look things easier look things instead looking way lastely project involves pictures dont know find go computer find searching done found everything see caps let students use computers insde classroomschools get easy help                                                                                                                                                                                                                                                                                                                                                                                                                                                                                                                                                                                                                                                                                                                                                                                                                                                                                                                                                                                                                                                                                                                                                                                                                                        \n",
       "3  want child suceed life computers valuable everyday life computers help children get education independent hows anyane tell new use computer caps get college take notes quickly fall behind whycomputers important everyday life computers important child get proper education need percent children uses thev internet students studies ones grade ahead best classmates dr person computer cope says caps using computer research topic went leperdy date num date computers see computers valuable items used everyday life computers important everyday life helps children independent learn use different parts internet percent percent children use internet likely succeed college know websites go get percent chance children succeed college get higher paying jobs theyve person computer expect says caps son organization caps smart caps always computer looking new facts ideas popped head caps student hard get computers valuable everyday life computers impotant look sites help eat health foods percent adults health foods likely live even num years life bodies health conditions theyve eating fruits drinking keep bones strong caps fall caps older see using internet helpful used right way using internet help successful person want life                                                                                                                                                                                                                                                                                                                                                                                                                                                                               \n",
       "4  dear local newspaper computers important people everyone uses used isnt bad computer still excersise able things everyday lets say need look something thing always go information computer people schools industries homes use time teenagers usually go computer talk friends maybe play games know dont waste time bored day excersising active indeed good teenagers really look even though dont push away computer always dont anymore homework finish running around neighborhood friends cant imagine life would like coming home soccer practice done homework computer caps one first places run sit back relax computers known friends wont hurt us give us need want reaserch good example everyone uses computer find whatever people looking theyre done reaserching little fun games friends believe main purpose computers information whenever get home school finish homework stretch little cheerleading whatch caps go computer im bored im active im working excersising nothing make time occupied everyone im one yes computers square box keyboard dont push away peoples common lives see arent say wont rot peoples brain anything reason office living room bedroom people like uses needs                                                                                                                                                                                                                                                                                                                                                                                                                                                                                                                                      \n",
       "\n",
       "    unigrams  polarity  subjectivity  POS  word_count  \n",
       "0  computers  0.051566  0.446303      JJ   192         \n",
       "1  people     0.242771  0.515484      NN   234         \n",
       "2  computer   0.341667  0.583333      NN   76          \n",
       "3  caps       0.124102  0.596148      NN   180         \n",
       "4  time      -0.003571  0.481349      NNS  177         "
      ]
     },
     "execution_count": 24,
     "metadata": {},
     "output_type": "execute_result"
    }
   ],
   "source": [
    "#list for length of words in each tweet for train set\n",
    "text_length = []\n",
    "\n",
    "#for loop going through each tweet in the text column of the dataframe\n",
    "for tweet in comparison_train['clean_w_stop']:\n",
    "    tweet_length = len(tweet.split())\n",
    "    text_length.append(tweet_length)\n",
    "#creating a dataframe out of the word length list, then joining it to the main dataframe \n",
    "text_length_df = pd.DataFrame(text_length)\n",
    "text_length_df.columns = [\"word_count\"] \n",
    "#joining dataframe of word lengths to main dataframe\n",
    "comparison_train = comparison_train.join(text_length_df)\n",
    "comparison_train.head()"
   ]
  },
  {
   "cell_type": "code",
   "execution_count": 25,
   "id": "441a6835",
   "metadata": {},
   "outputs": [],
   "source": [
    "# adding word count column for test set\n",
    "text_length_test = []\n",
    "\n",
    "#for loop going through each tweet in the text column of the dataframe\n",
    "for tweet in comparison_test['clean_w_stop']:\n",
    "    tweet_length = len(tweet.split())\n",
    "    text_length_test.append(tweet_length)\n",
    "#creating a dataframe out of the word length list, then joining it to the main dataframe \n",
    "text_length_df = pd.DataFrame(text_length_test)\n",
    "text_length_df.columns = [\"word_count\"] \n",
    "#joining dataframe of word lengths to main dataframe\n",
    "comparison_test = comparison_test.join(text_length_df)"
   ]
  },
  {
   "cell_type": "markdown",
   "id": "50d7e851",
   "metadata": {},
   "source": [
    "## Ridge Linear Regression Model"
   ]
  },
  {
   "cell_type": "markdown",
   "id": "f938c895",
   "metadata": {},
   "source": [
    "I plan to implement a Ridge Linear Regression Model to evaluate how well my features perform in predicting the essay scores."
   ]
  },
  {
   "cell_type": "code",
   "execution_count": 27,
   "id": "11e670cb",
   "metadata": {},
   "outputs": [],
   "source": [
    "# defining X test and y test, copying for use from earlier in Q3\n",
    "train_labels = np.array(train.score) # X_test\n",
    "test_labels = np.array(test.score) # y_test"
   ]
  },
  {
   "cell_type": "code",
   "execution_count": 28,
   "id": "c4cf36fa",
   "metadata": {},
   "outputs": [],
   "source": [
    "# defining X train and y train with polarity, subjectivity and word_count as features\n",
    "X_train = comparison_train[['polarity', 'word_count','subjectivity']] #'bigrams_trigrams']]\n",
    "X_test = comparison_test[['polarity', 'word_count','subjectivity']] #'bigrams_trigrams']]\n",
    "y_train = train_labels\n",
    "y_test = test_labels"
   ]
  },
  {
   "cell_type": "code",
   "execution_count": 29,
   "id": "2158539e",
   "metadata": {},
   "outputs": [
    {
     "data": {
      "text/plain": [
       "(1515, 3)"
      ]
     },
     "execution_count": 29,
     "metadata": {},
     "output_type": "execute_result"
    }
   ],
   "source": [
    "X_train.shape\n",
    "#X_test.shape\n",
    "#y_train.shape\n",
    "#y_test.shape"
   ]
  },
  {
   "cell_type": "code",
   "execution_count": 30,
   "id": "e5ea0d0e",
   "metadata": {},
   "outputs": [
    {
     "data": {
      "text/plain": [
       "Ridge(alpha=0.3)"
      ]
     },
     "execution_count": 30,
     "metadata": {},
     "output_type": "execute_result"
    }
   ],
   "source": [
    "from sklearn.linear_model import Ridge\n",
    "model1 = Ridge(alpha= 0.3) # calling the model\n",
    "model1.fit(X_train, y_train) #fitting model to the data"
   ]
  },
  {
   "cell_type": "code",
   "execution_count": 31,
   "id": "8fd2d665",
   "metadata": {},
   "outputs": [
    {
     "name": "stdout",
     "output_type": "stream",
     "text": [
      "Model coefficients: [-0.04876533  0.01985521  0.46372901]\n",
      "Models intercept: 4.637783287575222\n"
     ]
    }
   ],
   "source": [
    "print('Model coefficients:', model1.coef_) # displaying the coefficients\n",
    "print('Models intercept:', model1.intercept_) # displaying the intercept"
   ]
  },
  {
   "cell_type": "code",
   "execution_count": 32,
   "id": "7b86eb77",
   "metadata": {},
   "outputs": [],
   "source": [
    "# predicting y_test\n",
    "pred1 = model1.predict(X_test)"
   ]
  },
  {
   "cell_type": "code",
   "execution_count": 33,
   "id": "0e2c0e93",
   "metadata": {},
   "outputs": [
    {
     "name": "stdout",
     "output_type": "stream",
     "text": [
      "R Squared Value: 0.6423512280776462\n"
     ]
    }
   ],
   "source": [
    "# calculating r squared value\n",
    "from sklearn.metrics import r2_score\n",
    "model1_r2 = r2_score(y_test, pred1)\n",
    "print('R Squared Value:', model1_r2)"
   ]
  },
  {
   "cell_type": "code",
   "execution_count": 34,
   "id": "dc8fb84a",
   "metadata": {},
   "outputs": [
    {
     "name": "stdout",
     "output_type": "stream",
     "text": [
      "Mean Squared Error: 0.7729404234361141\n"
     ]
    }
   ],
   "source": [
    "# calculating mean squared error\n",
    "from sklearn.metrics import mean_squared_error\n",
    "model1_error = mean_squared_error(y_test, pred1)\n",
    "print('Mean Squared Error:', model1_error)"
   ]
  },
  {
   "cell_type": "code",
   "execution_count": 35,
   "id": "39ae6992",
   "metadata": {},
   "outputs": [],
   "source": [
    "# defining X train and y train with polarity and subjectivity as features\n",
    "X_train_2 = comparison_train[['polarity', 'subjectivity']]\n",
    "X_test_2 = comparison_test[['polarity', 'subjectivity']]\n",
    "y_train_2 = train_labels\n",
    "y_test_2 = test_labels"
   ]
  },
  {
   "cell_type": "code",
   "execution_count": 36,
   "id": "9b61e5f4",
   "metadata": {},
   "outputs": [
    {
     "data": {
      "text/plain": [
       "Ridge(alpha=0.3)"
      ]
     },
     "execution_count": 36,
     "metadata": {},
     "output_type": "execute_result"
    }
   ],
   "source": [
    "model2 = Ridge(alpha = 0.3)\n",
    "model2.fit(X_train_2, y_train_2)"
   ]
  },
  {
   "cell_type": "code",
   "execution_count": 37,
   "id": "e125d860",
   "metadata": {},
   "outputs": [],
   "source": [
    "pred2 = model2.predict(X_test_2)"
   ]
  },
  {
   "cell_type": "code",
   "execution_count": 38,
   "id": "3632bf75",
   "metadata": {},
   "outputs": [
    {
     "name": "stdout",
     "output_type": "stream",
     "text": [
      "R Squared Value: 0.6423512280776462\n",
      "Mean Squared Error: 2.1466082143041265\n"
     ]
    }
   ],
   "source": [
    "model2_r2 = r2_score(y_test, pred1)\n",
    "print('R Squared Value:', model2_r2)\n",
    "model2_error = mean_squared_error(y_test_2, pred2)\n",
    "print('Mean Squared Error:', model2_error)"
   ]
  },
  {
   "cell_type": "code",
   "execution_count": 43,
   "id": "4f252ebf",
   "metadata": {},
   "outputs": [],
   "source": [
    "# defining X train and y train with word count as only feature\n",
    "X_train = comparison_train['word_count'].array.reshape(-1, 1)\n",
    "X_test = comparison_test['word_count'].array.reshape(-1, 1)\n",
    "y_train = train_labels\n",
    "y_test = test_labels"
   ]
  },
  {
   "cell_type": "code",
   "execution_count": 44,
   "id": "a7d9f448",
   "metadata": {},
   "outputs": [
    {
     "data": {
      "text/plain": [
       "Ridge(alpha=0.3)"
      ]
     },
     "execution_count": 44,
     "metadata": {},
     "output_type": "execute_result"
    }
   ],
   "source": [
    "model3 = Ridge(0.3)\n",
    "model3.fit(X_train, y_train)"
   ]
  },
  {
   "cell_type": "code",
   "execution_count": 45,
   "id": "e6889b6f",
   "metadata": {},
   "outputs": [],
   "source": [
    "pred3 = model3.predict(X_test)"
   ]
  },
  {
   "cell_type": "code",
   "execution_count": 46,
   "id": "0e2edeea",
   "metadata": {},
   "outputs": [
    {
     "name": "stdout",
     "output_type": "stream",
     "text": [
      "R Squared Value: 0.5404847261220544\n",
      "Mean Squared Error: 0.7708261022108951\n"
     ]
    }
   ],
   "source": [
    "model3_r2 = r2_score(pred3, y_test)\n",
    "print('R Squared Value:', model3_r2)\n",
    "model3_error = mean_squared_error(pred3, y_test)\n",
    "print('Mean Squared Error:', model3_error)"
   ]
  },
  {
   "cell_type": "code",
   "execution_count": 47,
   "id": "c51c325c",
   "metadata": {},
   "outputs": [
    {
     "data": {
      "text/html": [
       "<div>\n",
       "<style scoped>\n",
       "    .dataframe tbody tr th:only-of-type {\n",
       "        vertical-align: middle;\n",
       "    }\n",
       "\n",
       "    .dataframe tbody tr th {\n",
       "        vertical-align: top;\n",
       "    }\n",
       "\n",
       "    .dataframe thead th {\n",
       "        text-align: right;\n",
       "    }\n",
       "</style>\n",
       "<table border=\"1\" class=\"dataframe\">\n",
       "  <thead>\n",
       "    <tr style=\"text-align: right;\">\n",
       "      <th></th>\n",
       "      <th>model1</th>\n",
       "      <th>model2</th>\n",
       "      <th>model3</th>\n",
       "      <th>true</th>\n",
       "    </tr>\n",
       "  </thead>\n",
       "  <tbody>\n",
       "    <tr>\n",
       "      <th>0</th>\n",
       "      <td>11.287965</td>\n",
       "      <td>8.430266</td>\n",
       "      <td>11.306022</td>\n",
       "      <td>11</td>\n",
       "    </tr>\n",
       "    <tr>\n",
       "      <th>1</th>\n",
       "      <td>9.027684</td>\n",
       "      <td>8.513513</td>\n",
       "      <td>8.998404</td>\n",
       "      <td>9</td>\n",
       "    </tr>\n",
       "    <tr>\n",
       "      <th>2</th>\n",
       "      <td>10.468847</td>\n",
       "      <td>8.571372</td>\n",
       "      <td>10.450612</td>\n",
       "      <td>11</td>\n",
       "    </tr>\n",
       "    <tr>\n",
       "      <th>3</th>\n",
       "      <td>8.950417</td>\n",
       "      <td>8.536032</td>\n",
       "      <td>8.938724</td>\n",
       "      <td>10</td>\n",
       "    </tr>\n",
       "    <tr>\n",
       "      <th>4</th>\n",
       "      <td>9.514066</td>\n",
       "      <td>8.413337</td>\n",
       "      <td>9.555415</td>\n",
       "      <td>12</td>\n",
       "    </tr>\n",
       "  </tbody>\n",
       "</table>\n",
       "</div>"
      ],
      "text/plain": [
       "      model1    model2     model3  true\n",
       "0  11.287965  8.430266  11.306022  11  \n",
       "1  9.027684   8.513513  8.998404   9   \n",
       "2  10.468847  8.571372  10.450612  11  \n",
       "3  8.950417   8.536032  8.938724   10  \n",
       "4  9.514066   8.413337  9.555415   12  "
      ]
     },
     "execution_count": 47,
     "metadata": {},
     "output_type": "execute_result"
    }
   ],
   "source": [
    "# creating dataframe of predicted and true values to graph\n",
    "error_rates = pd.DataFrame()\n",
    "error_rates['model1'] = pred1\n",
    "error_rates['model2'] = pred2\n",
    "error_rates['model3'] = pred3\n",
    "error_rates['true'] = y_test\n",
    "error_rates.head() # showing head of predictions and true score values"
   ]
  },
  {
   "cell_type": "code",
   "execution_count": 48,
   "id": "5bcb4329",
   "metadata": {},
   "outputs": [
    {
     "data": {
      "text/plain": [
       "([], [])"
      ]
     },
     "execution_count": 48,
     "metadata": {},
     "output_type": "execute_result"
    },
    {
     "data": {
      "image/png": "[encoded data removed]",
      "text/plain": [
       "<Figure size 720x432 with 1 Axes>"
      ]
     },
     "metadata": {
      "needs_background": "light"
     },
     "output_type": "display_data"
    }
   ],
   "source": [
    "import matplotlib.pyplot as plt\n",
    "error_rate_subset = error_rates.sample(n= 20) # selecting 20 random points from each column to plot\n",
    "error_rate_subset.plot(kind='bar',figsize=(10,6))\n",
    "plt.title('Predicted Test Scores vs. True Test scores')\n",
    "plt.xlabel('Random Set of 20 essays')\n",
    "plt.ylabel('Score')\n",
    "plt.xticks([])"
   ]
  },
  {
   "cell_type": "markdown",
   "id": "b373fac1",
   "metadata": {},
   "source": [
    "- Since the features I included were polarity scores, subjectivity scores and word count, I found that changes in the alpha value for my Ridge Linear Regression model didn't cause significant changes in the R^2 score. I suspect that this is because of my word counts feature because when I removed it, my R^2 score with only using the polarity and subjectivity scores with keeping alpha at 0.3 was about ~0.2-0.3. When I added the word count feature back in, I found that my R^2 score jumped back up to about ~0.64 and stayed consistent when I change the alpha value to any value between 0 to 10.\n",
    "- I also created three different Ridge Linear Regression models to compare how accurate they are at predicting the labels and I graphed a random sample of 20 prediction values from each model so that I could compare their values to the true labels. My first model contained polarity scores, subjectivity scores and word count. My second model contained just polarity and subjectivity scores and my third model only contained the word count feature.\n",
    "- The model that included the word count feature had the highest R^2 score and from inspecting my Predicted Test scores vs. True test scores plot above,I see that it takes on predicted values close to the true value of the labels compared to the predicted values that the other two models generated. \n",
    "- Even the model that only contained the word count feature has a slightly lower R^2 score (about 0.1-0.2 units lower) than the model that contained all three features."
   ]
  },
  {
   "cell_type": "markdown",
   "id": "bfb94fae",
   "metadata": {},
   "source": [
    "## Another model: kNN"
   ]
  },
  {
   "cell_type": "markdown",
   "id": "b1063909",
   "metadata": {},
   "source": [
    "I plan to implement a kNN model in order to find which k-value generates the best accuracy score when classifying essay scores. I want to plot the variation in accuracy scores when the k value varies."
   ]
  },
  {
   "cell_type": "code",
   "execution_count": 49,
   "id": "7e3d7f1f",
   "metadata": {},
   "outputs": [],
   "source": [
    "from sklearn.neighbors import KNeighborsClassifier\n",
    "from sklearn.metrics import accuracy_score\n",
    "from sklearn import preprocessing\n",
    "\n",
    "# pasting my features and labels again for continuity\n",
    "X_train = comparison_train[['polarity', 'subjectivity', 'word_count']]\n",
    "X_test = comparison_test[['polarity', 'subjectivity', 'word_count']]\n",
    "y_train = train_labels\n",
    "y_test = test_labels\n",
    "\n",
    "# empty lists to store k values and accuracy scores for graphing\n",
    "x = []\n",
    "y = []\n",
    "\n",
    "for k in range(1, 50):\n",
    "    knn = KNeighborsClassifier(n_neighbors = k)\n",
    "    knn.fit(X_train, y_train)\n",
    "    pred_knn = knn.predict(X_test)\n",
    "    y = np.append(y, accuracy_score(y_test, pred_knn))\n",
    "    x = np.append(x, k)"
   ]
  },
  {
   "cell_type": "code",
   "execution_count": 50,
   "id": "7d859902",
   "metadata": {},
   "outputs": [
    {
     "data": {
      "text/plain": [
       "Text(0.5, 1.0, 'Variation in Accuracy values for different K value using kNN')"
      ]
     },
     "execution_count": 50,
     "metadata": {},
     "output_type": "execute_result"
    },
    {
     "data": {
      "image/png": "[encoded data removed]",
      "text/plain": [
       "<Figure size 432x288 with 1 Axes>"
      ]
     },
     "metadata": {
      "needs_background": "light"
     },
     "output_type": "display_data"
    }
   ],
   "source": [
    "# plotting k values and accuracy scores for kNN model\n",
    "plt.plot(x, y)\n",
    "plt.xlabel('k values')\n",
    "plt.ylabel('Accuracy Score')\n",
    "plt.title('Variation in Accuracy values for different K value using kNN')"
   ]
  },
  {
   "cell_type": "code",
   "execution_count": 51,
   "id": "9fd3a6a4",
   "metadata": {},
   "outputs": [
    {
     "name": "stdout",
     "output_type": "stream",
     "text": [
      "MSE for kNN model: 0.9029850746268657\n"
     ]
    }
   ],
   "source": [
    "print('MSE for kNN model:', mean_squared_error(y_test, pred_knn))"
   ]
  },
  {
   "cell_type": "markdown",
   "id": "b9e267f0",
   "metadata": {},
   "source": [
    "- From my implementation of the kNN model, I found that the accuracy scores plateau at about k = 10 with some variation in accuracy scores with k greater than 10. I found that k = 12 produced the highest accuracy score at about 0.503. I think that if I had added text features, like unigrams and bigrams, I might've been able to achieve a higher accuracy score however, I went through a lot of preprocessing errors when including my 'unigrams' feature so I decided to only include features with numerical values which included polarity scores, subjectivity scores and word count.\n",
    "- My MSE error is about 0.9 in this case, and I calculated it so that I can compare its value to my other models in the next parts for perforamance evaluation."
   ]
  },
  {
   "cell_type": "markdown",
   "id": "25252349",
   "metadata": {},
   "source": [
    "## 9: SVMs Using GridSearch CV to find best hyperparameters"
   ]
  },
  {
   "cell_type": "code",
   "execution_count": 52,
   "id": "69e4cacd",
   "metadata": {},
   "outputs": [
    {
     "name": "stderr",
     "output_type": "stream",
     "text": [
      "/Library/Frameworks/Python.framework/Versions/3.9/lib/python3.9/site-packages/sklearn/model_selection/_split.py:676: UserWarning: The least populated class in y has only 1 members, which is less than n_splits=2.\n",
      "  warnings.warn(\n",
      "/Library/Frameworks/Python.framework/Versions/3.9/lib/python3.9/site-packages/sklearn/model_selection/_split.py:676: UserWarning: The least populated class in y has only 1 members, which is less than n_splits=2.\n",
      "  warnings.warn(\n",
      "/Library/Frameworks/Python.framework/Versions/3.9/lib/python3.9/site-packages/sklearn/model_selection/_split.py:676: UserWarning: The least populated class in y has only 1 members, which is less than n_splits=2.\n",
      "  warnings.warn(\n"
     ]
    },
    {
     "name": "stdout",
     "output_type": "stream",
     "text": [
      "Best: 0.512881 using {'C': 1, 'gamma': 'scale', 'kernel': 'linear'}\n"
     ]
    }
   ],
   "source": [
    "from sklearn.model_selection import RepeatedStratifiedKFold\n",
    "from sklearn.model_selection import GridSearchCV\n",
    "from sklearn.svm import SVC\n",
    "\n",
    "kernel = ['linear']\n",
    "C = [1]\n",
    "gamma = ['scale']\n",
    "svc = SVC()\n",
    "# define grid search\n",
    "grid = dict(kernel=kernel,C=C,gamma=gamma)\n",
    "\n",
    "cv = RepeatedStratifiedKFold(n_splits=2, n_repeats=3, random_state=1)\n",
    "gridcv_search = GridSearchCV(estimator=svc, param_grid=grid, n_jobs=-1, cv=cv, scoring='accuracy', error_score=0)\n",
    "svm_result = gridcv_search.fit(X_train, y_train)\n",
    "svm_pred = svm_result.predict(X_test)\n",
    "\n",
    "# printing largest accuracy score I could get\n",
    "print(\"Best: %f using %s\" % (svm_result.best_score_, svm_result.best_params_))"
   ]
  },
  {
   "cell_type": "code",
   "execution_count": 53,
   "id": "d95ffd6a",
   "metadata": {},
   "outputs": [
    {
     "name": "stdout",
     "output_type": "stream",
     "text": [
      "MSE for SVM model: 0.9626865671641791\n"
     ]
    }
   ],
   "source": [
    "print('MSE for SVM model:', mean_squared_error(y_test, svm_pred))"
   ]
  },
  {
   "cell_type": "markdown",
   "id": "d698fef0",
   "metadata": {},
   "source": [
    "- Using the same features that I've used in my previous models, I found that setting my parameters for my SVM model to kernel = 'linear, gamma = 'scale', C = 1 were the best hyperparameters to use for my feature classification.\n",
    "- I used GridSearchCV to choose the best hyperparameters. I tried the following hyperparameters: C = [1, 10, 100, 1000], gamma = 'scale', 'auto', kernel = 'rbf', 'linear', 'kernel', 'gamma'. I found that including all of these hyerparameters and letting GridSearchCV choose took a very long time to run so I didn't include these choices back into my model after it ran once so that it could run faster when run again. \n",
    "- I also found that I didn't obtain a high enough accuracy score from my SVM model. An accuracy score of 0.512 is barely better than a random classification.\n",
    "- I would add text features if I were to do this again but I also had a hard time resolving preprocessing errors when including my POS and unigram features.\n",
    "- In this case, my MSE is about 0.96 which is about 0.2 larger than the MSE that the Ridge model produced."
   ]
  },
  {
   "cell_type": "markdown",
   "id": "1490d66d",
   "metadata": {},
   "source": [
    "## 10:\n",
    "- Compared to my kNN model, the Ridge Linear Regression model performed the strongest with an alpha value of 0.3 and with the features being polarity scores, subjectivity scores and word count in both models in order to maintain consistency when comparing their performance. \n",
    "- I also observed that there was a lot of variation in the accuracy scores in my kNN model after it plateaued compared to how I would expect the plot of accuracy scores vs. k values to be. I would expect for the plateau to be more or less at the same accuracy score value because after a certain k value, larger k values shouldn't have much of an impact on the accuracy score of the model.\n",
    "- My SVM model had the longest runtime and had a low accuracy score, similar to kNN's accuracy score, therefore, I might vote it as the worst model out of the three."
   ]
  },
  {
   "cell_type": "markdown",
   "id": "378193d6",
   "metadata": {},
   "source": [
    "## Deep Sentence Embedder"
   ]
  },
  {
   "cell_type": "markdown",
   "id": "1aa24763",
   "metadata": {},
   "source": [
    "## 13:"
   ]
  },
  {
   "cell_type": "code",
   "execution_count": 54,
   "id": "f552dcca",
   "metadata": {},
   "outputs": [],
   "source": [
    "import ssl\n",
    "ssl._create_default_https_context = ssl._create_unverified_context"
   ]
  },
  {
   "cell_type": "code",
   "execution_count": 55,
   "id": "4342c797",
   "metadata": {},
   "outputs": [
    {
     "name": "stderr",
     "output_type": "stream",
     "text": [
      "2022-05-19 12:24:25.222051: I tensorflow/core/platform/cpu_feature_guard.cc:151] This TensorFlow binary is optimized with oneAPI Deep Neural Network Library (oneDNN) to use the following CPU instructions in performance-critical operations:  AVX2 FMA\n",
      "To enable them in other operations, rebuild TensorFlow with the appropriate compiler flags.\n"
     ]
    }
   ],
   "source": [
    "import tensorflow_hub as hub\n",
    "module_url = \"https://tfhub.dev/google/universal-sentence-encoder/4\"\n",
    "model = hub.load(module_url)"
   ]
  },
  {
   "cell_type": "code",
   "execution_count": 75,
   "id": "239c2bf6",
   "metadata": {},
   "outputs": [],
   "source": [
    "# convering my text from train and test sets to lists\n",
    "train_tolist = comparison_train['clean_w_stop'].tolist()\n",
    "test_tolist = comparison_test['clean_w_stop'].tolist()"
   ]
  },
  {
   "cell_type": "markdown",
   "id": "4f19378f",
   "metadata": {},
   "source": [
    "## 14:"
   ]
  },
  {
   "cell_type": "code",
   "execution_count": 76,
   "id": "f1e4d9bf",
   "metadata": {},
   "outputs": [],
   "source": [
    "# calling DSE model on train set\n",
    "emb = model(train_tolist)"
   ]
  },
  {
   "cell_type": "code",
   "execution_count": 77,
   "id": "9ae451c6",
   "metadata": {},
   "outputs": [],
   "source": [
    "# calling model on test set\n",
    "emb_test = model(test_tolist)"
   ]
  },
  {
   "cell_type": "markdown",
   "id": "23f95908",
   "metadata": {},
   "source": [
    "## 15:"
   ]
  },
  {
   "cell_type": "code",
   "execution_count": 59,
   "id": "73b46d90",
   "metadata": {},
   "outputs": [],
   "source": [
    "# empty lists to store k values and accuracy scores for graphing\n",
    "# implementing kNN model again with new features\n",
    "x = []\n",
    "y = []\n",
    "\n",
    "for k in range(1, 100):\n",
    "    knn = KNeighborsClassifier(n_neighbors = k)\n",
    "    knn.fit(emb, y_train)\n",
    "    pred_knn = knn.predict(emb_test)\n",
    "    y = np.append(y, accuracy_score(y_test, pred_knn))\n",
    "    x = np.append(x, k)"
   ]
  },
  {
   "cell_type": "code",
   "execution_count": 60,
   "id": "9f44094f",
   "metadata": {},
   "outputs": [
    {
     "data": {
      "text/plain": [
       "Text(0.5, 1.0, 'kNN using Features from Deep Sentence Embedder')"
      ]
     },
     "execution_count": 60,
     "metadata": {},
     "output_type": "execute_result"
    },
    {
     "data": {
      "image/png": "[encoded data removed]",
      "text/plain": [
       "<Figure size 432x288 with 1 Axes>"
      ]
     },
     "metadata": {
      "needs_background": "light"
     },
     "output_type": "display_data"
    }
   ],
   "source": [
    "# plotting accuracy score vs. k values\n",
    "plt.plot(x, y)\n",
    "plt.xlabel(\"k values\")\n",
    "plt.ylabel(\"Accuracy scores\")\n",
    "plt.title(\"kNN using Features from Deep Sentence Embedder\")"
   ]
  },
  {
   "cell_type": "code",
   "execution_count": 61,
   "id": "d957a974",
   "metadata": {},
   "outputs": [
    {
     "name": "stdout",
     "output_type": "stream",
     "text": [
      "Accuracy score: 0.417910447761194\n",
      "Mean Squared Error: 1.5820895522388059\n"
     ]
    }
   ],
   "source": [
    "emb_r2 = accuracy_score(pred_knn, y_test)\n",
    "print('Accuracy score:', emb_r2)\n",
    "modelemb_error = mean_squared_error(pred_knn, y_test)\n",
    "print('Mean Squared Error:', modelemb_error)"
   ]
  },
  {
   "cell_type": "markdown",
   "id": "a8d58672",
   "metadata": {},
   "source": [
    "- I chose to feed the embeddings into my kNN model from Part 2 because I wanted to see if it would perform better with different features that I didn't have to select. I found that it took for k to reach a very high value until it \"plateaued\" at an accuracy score. From the graph above, it looks like the accuracy score stabalizes around 40-50 for k but there's still a lot of variation. I would say that using these embeddings are features for my kNN model didn't work as well compared to when I chose my own features because k must take on a much higher value in this case and it doesn't reach ever reach an accuracy score over 0.50 like my kNN model did in Part 2.\n",
    "- In addition, my accuracy score when calculated between the predicted values and y_test is about 0.38 which is much lower than my accuracy score for my kNN model in Part 2 which was about 0.503. \n",
    "- This makes me wonder if the large feature space in this case causes kNN to not be able to predict the y_test values accurately enough which causes such large variations in the accuracy scores."
   ]
  },
  {
   "cell_type": "markdown",
   "id": "bd815630",
   "metadata": {},
   "source": [
    "## Calculating TFIDF weights to observe the difference"
   ]
  },
  {
   "cell_type": "markdown",
   "id": "83d832ed",
   "metadata": {},
   "source": [
    "I wanted to observe how my SVM and kNN models would perform if I fed TFIDF features into both of them. I plan to extract TFIDF features using `TfidVectorizer` from `sklearn.feature_extraction.text`."
   ]
  },
  {
   "cell_type": "code",
   "execution_count": 62,
   "id": "5fcc9388",
   "metadata": {},
   "outputs": [],
   "source": [
    "from sklearn.feature_extraction.text import TfidfVectorizer"
   ]
  },
  {
   "cell_type": "code",
   "execution_count": 63,
   "id": "15c5e727",
   "metadata": {},
   "outputs": [],
   "source": [
    "docs = [\" \".join(comparison_train['clean_w_stop']), \" \".join(comparison_test['clean_w_stop'])]"
   ]
  },
  {
   "cell_type": "code",
   "execution_count": 64,
   "id": "4894c011",
   "metadata": {},
   "outputs": [],
   "source": [
    "# creating vectorizer object\n",
    "vect = TfidfVectorizer(stop_words='english')"
   ]
  },
  {
   "cell_type": "code",
   "execution_count": 65,
   "id": "a11ccbbf",
   "metadata": {},
   "outputs": [],
   "source": [
    "# creating matrix of features\n",
    "matrix = vect.fit_transform(docs)"
   ]
  },
  {
   "cell_type": "code",
   "execution_count": 66,
   "id": "6886de99",
   "metadata": {},
   "outputs": [],
   "source": [
    "# converting matrices to arrays\n",
    "\n",
    "matrix_array = matrix.toarray()"
   ]
  },
  {
   "cell_type": "code",
   "execution_count": 67,
   "id": "bde6b27d",
   "metadata": {},
   "outputs": [
    {
     "name": "stderr",
     "output_type": "stream",
     "text": [
      "/Library/Frameworks/Python.framework/Versions/3.9/lib/python3.9/site-packages/sklearn/utils/deprecation.py:87: FutureWarning: Function get_feature_names is deprecated; get_feature_names is deprecated in 1.0 and will be removed in 1.2. Please use get_feature_names_out instead.\n",
      "  warnings.warn(msg, category=FutureWarning)\n"
     ]
    }
   ],
   "source": [
    "total_features = vect.get_feature_names()"
   ]
  },
  {
   "cell_type": "code",
   "execution_count": 68,
   "id": "c7634d1d",
   "metadata": {},
   "outputs": [
    {
     "data": {
      "text/html": [
       "<div>\n",
       "<style scoped>\n",
       "    .dataframe tbody tr th:only-of-type {\n",
       "        vertical-align: middle;\n",
       "    }\n",
       "\n",
       "    .dataframe tbody tr th {\n",
       "        vertical-align: top;\n",
       "    }\n",
       "\n",
       "    .dataframe thead th {\n",
       "        text-align: right;\n",
       "    }\n",
       "</style>\n",
       "<table border=\"1\" class=\"dataframe\">\n",
       "  <thead>\n",
       "    <tr style=\"text-align: right;\">\n",
       "      <th></th>\n",
       "      <th>tokens</th>\n",
       "      <th>train_tfidf</th>\n",
       "      <th>test_tfidf</th>\n",
       "    </tr>\n",
       "  </thead>\n",
       "  <tbody>\n",
       "    <tr>\n",
       "      <th>2856</th>\n",
       "      <td>computers</td>\n",
       "      <td>0.455819</td>\n",
       "      <td>0.455859</td>\n",
       "    </tr>\n",
       "    <tr>\n",
       "      <th>10416</th>\n",
       "      <td>people</td>\n",
       "      <td>0.439670</td>\n",
       "      <td>0.419193</td>\n",
       "    </tr>\n",
       "    <tr>\n",
       "      <th>2842</th>\n",
       "      <td>computer</td>\n",
       "      <td>0.394300</td>\n",
       "      <td>0.373224</td>\n",
       "    </tr>\n",
       "    <tr>\n",
       "      <th>2047</th>\n",
       "      <td>caps</td>\n",
       "      <td>0.379715</td>\n",
       "      <td>0.433695</td>\n",
       "    </tr>\n",
       "    <tr>\n",
       "      <th>14382</th>\n",
       "      <td>time</td>\n",
       "      <td>0.175474</td>\n",
       "      <td>0.164996</td>\n",
       "    </tr>\n",
       "    <tr>\n",
       "      <th>6083</th>\n",
       "      <td>friends</td>\n",
       "      <td>0.119910</td>\n",
       "      <td>0.123131</td>\n",
       "    </tr>\n",
       "    <tr>\n",
       "      <th>5541</th>\n",
       "      <td>family</td>\n",
       "      <td>0.107142</td>\n",
       "      <td>0.105893</td>\n",
       "    </tr>\n",
       "    <tr>\n",
       "      <th>15025</th>\n",
       "      <td>use</td>\n",
       "      <td>0.105274</td>\n",
       "      <td>0.120121</td>\n",
       "    </tr>\n",
       "    <tr>\n",
       "      <th>8383</th>\n",
       "      <td>like</td>\n",
       "      <td>0.100379</td>\n",
       "      <td>0.089749</td>\n",
       "    </tr>\n",
       "    <tr>\n",
       "      <th>14262</th>\n",
       "      <td>think</td>\n",
       "      <td>0.096190</td>\n",
       "      <td>0.086465</td>\n",
       "    </tr>\n",
       "  </tbody>\n",
       "</table>\n",
       "</div>"
      ],
      "text/plain": [
       "          tokens  train_tfidf  test_tfidf\n",
       "2856   computers  0.455819     0.455859  \n",
       "10416  people     0.439670     0.419193  \n",
       "2842   computer   0.394300     0.373224  \n",
       "2047   caps       0.379715     0.433695  \n",
       "14382  time       0.175474     0.164996  \n",
       "6083   friends    0.119910     0.123131  \n",
       "5541   family     0.107142     0.105893  \n",
       "15025  use        0.105274     0.120121  \n",
       "8383   like       0.100379     0.089749  \n",
       "14262  think      0.096190     0.086465  "
      ]
     },
     "execution_count": 68,
     "metadata": {},
     "output_type": "execute_result"
    }
   ],
   "source": [
    "tfidf_features = pd.DataFrame()\n",
    "tfidf_features['tokens'] = total_features\n",
    "tfidf_features['train_tfidf'] = matrix_array[0, :] # tfidf features for train\n",
    "tfidf_features['test_tfidf'] = matrix_array[1, :] # tfidf features for test\n",
    "\n",
    "tfidf_features.sort_values(by=['train_tfidf'], ascending=False).head(10) # printing our most relevant weights"
   ]
  },
  {
   "cell_type": "code",
   "execution_count": 69,
   "id": "d54d1ba7",
   "metadata": {},
   "outputs": [],
   "source": [
    "# appending tfidf features to my main dataframe of features\n",
    "comparison_test['tfidf_test'] = tfidf_features['test_tfidf']\n",
    "comparison_test.head()\n",
    "comparison_train['tfidf_train'] = tfidf_features['train_tfidf']"
   ]
  },
  {
   "cell_type": "code",
   "execution_count": 70,
   "id": "af752968",
   "metadata": {},
   "outputs": [
    {
     "name": "stderr",
     "output_type": "stream",
     "text": [
      "/Library/Frameworks/Python.framework/Versions/3.9/lib/python3.9/site-packages/sklearn/model_selection/_split.py:676: UserWarning: The least populated class in y has only 1 members, which is less than n_splits=2.\n",
      "  warnings.warn(\n",
      "/Library/Frameworks/Python.framework/Versions/3.9/lib/python3.9/site-packages/sklearn/model_selection/_split.py:676: UserWarning: The least populated class in y has only 1 members, which is less than n_splits=2.\n",
      "  warnings.warn(\n",
      "/Library/Frameworks/Python.framework/Versions/3.9/lib/python3.9/site-packages/sklearn/model_selection/_split.py:676: UserWarning: The least populated class in y has only 1 members, which is less than n_splits=2.\n",
      "  warnings.warn(\n"
     ]
    },
    {
     "name": "stdout",
     "output_type": "stream",
     "text": [
      "Best: 0.383498 using {'C': 1, 'gamma': 'scale', 'kernel': 'linear'}\n"
     ]
    }
   ],
   "source": [
    "# implementing SVM model using TFIDF weights as features\n",
    "from sklearn.model_selection import RepeatedStratifiedKFold\n",
    "from sklearn.model_selection import GridSearchCV\n",
    "from sklearn.svm import SVC\n",
    "\n",
    "kernel = ['linear']\n",
    "C = [1, 10, 100, 1000] # trying different C values\n",
    "gamma = ['scale']\n",
    "svc = SVC()\n",
    "# define grid search\n",
    "grid = dict(kernel=kernel,C=C,gamma=gamma)\n",
    "\n",
    "cv = RepeatedStratifiedKFold(n_splits=2, n_repeats=3, random_state=1)\n",
    "gridcv_search = GridSearchCV(estimator=svc, param_grid=grid, n_jobs=-1, cv=cv, scoring='accuracy', error_score=0)\n",
    "svm_result = gridcv_search.fit(comparison_train['tfidf_train'].array.reshape(-1,1), y_train)\n",
    "svm_predict = svm_result.predict(comparison_test['tfidf_test'].array.reshape(-1, 1))\n",
    "\n",
    "# printing largest accuracy score I could get\n",
    "print(\"Best: %f using %s\" % (svm_result.best_score_, svm_result.best_params_))"
   ]
  },
  {
   "cell_type": "code",
   "execution_count": 71,
   "id": "88d1a4bc",
   "metadata": {},
   "outputs": [
    {
     "name": "stdout",
     "output_type": "stream",
     "text": [
      "Accuracy Score for SVM Model: 0.39552238805970147\n",
      "Mean Squared Error: 2.5\n"
     ]
    }
   ],
   "source": [
    "print('Accuracy Score for SVM Model:', accuracy_score(y_test, svm_predict))\n",
    "print('Mean Squared Error:', mean_squared_error(y_test, svm_predict))"
   ]
  },
  {
   "cell_type": "markdown",
   "id": "f8fe0972",
   "metadata": {},
   "source": [
    "- In the case of feeding my TFIDF features into my SVM model, I see that the runtime was a lot quicker than it was when I implmented it in Part 2. \n",
    "- However, the accuracy score of my SVM model is much lower where now it's 0.39 but it was about 0.51 in Part 2 above. The MSE in this case is more than double the MSE that was produced when I implemented the SVM model in Part 2. This means that this model is not performing as well as the SVM model in Part 2 at predicting the true labels."
   ]
  },
  {
   "cell_type": "code",
   "execution_count": 72,
   "id": "30e14eea",
   "metadata": {},
   "outputs": [],
   "source": [
    "# trying to implement kNN model again with TFIDF weights\n",
    "x = []\n",
    "y = []\n",
    "\n",
    "for k in range(1, 20):\n",
    "    knn = KNeighborsClassifier(n_neighbors = k)\n",
    "    knn.fit(comparison_train['tfidf_train'].array.reshape(-1,1), y_train)\n",
    "    pred_knn = knn.predict(comparison_test['tfidf_test'].array.reshape(-1, 1))\n",
    "    y = np.append(y, accuracy_score(y_test, pred_knn))\n",
    "    x = np.append(x, k)"
   ]
  },
  {
   "cell_type": "code",
   "execution_count": 73,
   "id": "9ac91898",
   "metadata": {},
   "outputs": [
    {
     "data": {
      "text/plain": [
       "Text(0, 0.5, 'Accuracy scores')"
      ]
     },
     "execution_count": 73,
     "metadata": {},
     "output_type": "execute_result"
    },
    {
     "data": {
      "image/png": "[encoded data removed]",
      "text/plain": [
       "<Figure size 432x288 with 1 Axes>"
      ]
     },
     "metadata": {
      "needs_background": "light"
     },
     "output_type": "display_data"
    }
   ],
   "source": [
    "plt.plot(x, y)\n",
    "plt.title(\"kNN model Accuracy score uding TFIDF weights as features\")\n",
    "plt.xlabel(\"k values\")\n",
    "plt.ylabel(\"Accuracy scores\")"
   ]
  },
  {
   "cell_type": "code",
   "execution_count": 74,
   "id": "6c8d7d79",
   "metadata": {},
   "outputs": [
    {
     "name": "stdout",
     "output_type": "stream",
     "text": [
      "MSE using TFIDF features with kNN: 2.544776119402985\n"
     ]
    }
   ],
   "source": [
    "print('MSE using TFIDF features with kNN:', mean_squared_error(y_test, pred_knn))"
   ]
  },
  {
   "cell_type": "markdown",
   "id": "1204b9c4",
   "metadata": {},
   "source": [
    "- When implementing my kNN model using TFIDF weights, I found that there was a large drop in the accuracy score at about k = 4 and then a large spike back up to an accuracy score of ~0.4 at k = 5 where it then plateaus. The graph between the accuracy scores and k values when using the TFIDF features pleateaus for the first time, and I don't observe as much variation in accuracy scores as I did in previous parts when I used my own features.\n",
    "- However, my accuracy score in this case is still lower compared to the previous times I implemented my kNN model which is saying that the model is not performing well at predicting the correct labels using these features.\n",
    "- The MSE in this case takes on a high value of 2.5 than it did in previous parts. The MSE in this case is almost double than when I implemented my kNN model in Part 2."
   ]
  }
 ],
 "metadata": {
  "kernelspec": {
   "display_name": "Python 3 (ipykernel)",
   "language": "python",
   "name": "python3"
  },
  "language_info": {
   "codemirror_mode": {
    "name": "ipython",
    "version": 3
   },
   "file_extension": ".py",
   "mimetype": "text/x-python",
   "name": "python",
   "nbconvert_exporter": "python",
   "pygments_lexer": "ipython3",
   "version": "3.9.7"
  }
 },
 "nbformat": 4,
 "nbformat_minor": 5
}
